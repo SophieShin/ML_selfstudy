{
  "nbformat": 4,
  "nbformat_minor": 0,
  "metadata": {
    "colab": {
      "name": "OptionVolatilityEstimation",
      "provenance": [],
      "collapsed_sections": [],
      "authorship_tag": "ABX9TyMsyBXZV2DtAdWru40LDDyp",
      "include_colab_link": true
    },
    "kernelspec": {
      "name": "python3",
      "display_name": "Python 3"
    },
    "language_info": {
      "name": "python"
    }
  },
  "cells": [
    {
      "cell_type": "markdown",
      "metadata": {
        "id": "view-in-github",
        "colab_type": "text"
      },
      "source": [
        "<a href=\"https://colab.research.google.com/github/SophieShin/ML_selfstudy/blob/main/OptionVolatilityEstimation.ipynb\" target=\"_parent\"><img src=\"https://colab.research.google.com/assets/colab-badge.svg\" alt=\"Open In Colab\"/></a>"
      ]
    },
    {
      "cell_type": "code",
      "metadata": {
        "colab": {
          "base_uri": "https://localhost:8080/"
        },
        "id": "bmqQGGAta65L",
        "outputId": "89751922-70cc-4326-c1ae-62542f47dfa4"
      },
      "source": [
        "import os\n",
        "from google.colab import drive\n",
        "\n",
        "drive.mount('/content/gdrive/')"
      ],
      "execution_count": 1,
      "outputs": [
        {
          "output_type": "stream",
          "name": "stdout",
          "text": [
            "Mounted at /content/gdrive/\n"
          ]
        }
      ]
    },
    {
      "cell_type": "code",
      "metadata": {
        "id": "UgN8evXYb57h"
      },
      "source": [
        "os.chdir('/content/gdrive/MyDrive/Colab Notebooks/Programming for AI')    ## 현재 작업 환경으로 설정한 경로를 입력하세요"
      ],
      "execution_count": 2,
      "outputs": []
    },
    {
      "cell_type": "code",
      "metadata": {
        "id": "H-EFa5zcbNuh"
      },
      "source": [
        "import pandas as pd\n",
        "import numpy as np\n",
        "\n",
        "data = pd.read_csv('OptionVolatility.csv', encoding = 'cp949')"
      ],
      "execution_count": 3,
      "outputs": []
    },
    {
      "cell_type": "code",
      "metadata": {
        "colab": {
          "base_uri": "https://localhost:8080/"
        },
        "id": "Lziuwak8bZ-u",
        "outputId": "61eea983-cc8e-4d8b-a7b8-f688467dbc9c"
      },
      "source": [
        "data.shape"
      ],
      "execution_count": 4,
      "outputs": [
        {
          "output_type": "execute_result",
          "data": {
            "text/plain": [
              "(167849, 14)"
            ]
          },
          "metadata": {},
          "execution_count": 4
        }
      ]
    },
    {
      "cell_type": "code",
      "metadata": {
        "colab": {
          "base_uri": "https://localhost:8080/"
        },
        "id": "4cr1VZ8cg7kX",
        "outputId": "c8766f89-2e61-4d43-c802-22a55f27dd8f"
      },
      "source": [
        "data.info()\n",
        "# null값 없음"
      ],
      "execution_count": 5,
      "outputs": [
        {
          "output_type": "stream",
          "name": "stdout",
          "text": [
            "<class 'pandas.core.frame.DataFrame'>\n",
            "RangeIndex: 167849 entries, 0 to 167848\n",
            "Data columns (total 14 columns):\n",
            " #   Column              Non-Null Count   Dtype  \n",
            "---  ------              --------------   -----  \n",
            " 0   Code                167849 non-null  object \n",
            " 1   Name                167849 non-null  object \n",
            " 2   Date                167849 non-null  int64  \n",
            " 3   Types               167849 non-null  object \n",
            " 4   CallPut             167849 non-null  object \n",
            " 5   StrikePrice         167849 non-null  float64\n",
            " 6   ScaledStrikePrice   167849 non-null  float64\n",
            " 7   LastPrice           167849 non-null  float64\n",
            " 8   RemainingDays       167849 non-null  int64  \n",
            " 9   RiskFreeRate        167849 non-null  float64\n",
            " 10  OptionDividendRate  167849 non-null  float64\n",
            " 11  UnderlyingIndex     167849 non-null  float64\n",
            " 12  VKOSPI              167849 non-null  float64\n",
            " 13  ImpliedVolatility   167849 non-null  float64\n",
            "dtypes: float64(8), int64(2), object(4)\n",
            "memory usage: 17.9+ MB\n"
          ]
        }
      ]
    },
    {
      "cell_type": "code",
      "metadata": {
        "colab": {
          "base_uri": "https://localhost:8080/",
          "height": 295
        },
        "id": "N_Ihk_OchAAc",
        "outputId": "800f453f-89a4-41d6-e2ef-376ca537f3ac"
      },
      "source": [
        "data.describe()"
      ],
      "execution_count": 6,
      "outputs": [
        {
          "output_type": "execute_result",
          "data": {
            "text/html": [
              "<div>\n",
              "<style scoped>\n",
              "    .dataframe tbody tr th:only-of-type {\n",
              "        vertical-align: middle;\n",
              "    }\n",
              "\n",
              "    .dataframe tbody tr th {\n",
              "        vertical-align: top;\n",
              "    }\n",
              "\n",
              "    .dataframe thead th {\n",
              "        text-align: right;\n",
              "    }\n",
              "</style>\n",
              "<table border=\"1\" class=\"dataframe\">\n",
              "  <thead>\n",
              "    <tr style=\"text-align: right;\">\n",
              "      <th></th>\n",
              "      <th>Date</th>\n",
              "      <th>StrikePrice</th>\n",
              "      <th>ScaledStrikePrice</th>\n",
              "      <th>LastPrice</th>\n",
              "      <th>RemainingDays</th>\n",
              "      <th>RiskFreeRate</th>\n",
              "      <th>OptionDividendRate</th>\n",
              "      <th>UnderlyingIndex</th>\n",
              "      <th>VKOSPI</th>\n",
              "      <th>ImpliedVolatility</th>\n",
              "    </tr>\n",
              "  </thead>\n",
              "  <tbody>\n",
              "    <tr>\n",
              "      <th>count</th>\n",
              "      <td>1.678490e+05</td>\n",
              "      <td>167849.000000</td>\n",
              "      <td>167849.000000</td>\n",
              "      <td>167849.000000</td>\n",
              "      <td>167849.000000</td>\n",
              "      <td>167849.000000</td>\n",
              "      <td>167849.000000</td>\n",
              "      <td>167849.000000</td>\n",
              "      <td>167849.000000</td>\n",
              "      <td>167849.000000</td>\n",
              "    </tr>\n",
              "    <tr>\n",
              "      <th>mean</th>\n",
              "      <td>2.020090e+07</td>\n",
              "      <td>285.516059</td>\n",
              "      <td>-8.068731</td>\n",
              "      <td>8.044378</td>\n",
              "      <td>78.327276</td>\n",
              "      <td>0.009424</td>\n",
              "      <td>1.164245</td>\n",
              "      <td>305.687886</td>\n",
              "      <td>26.405780</td>\n",
              "      <td>0.314770</td>\n",
              "    </tr>\n",
              "    <tr>\n",
              "      <th>std</th>\n",
              "      <td>3.676041e+03</td>\n",
              "      <td>62.472991</td>\n",
              "      <td>23.450348</td>\n",
              "      <td>17.453706</td>\n",
              "      <td>126.295958</td>\n",
              "      <td>0.003253</td>\n",
              "      <td>2.103931</td>\n",
              "      <td>49.848465</td>\n",
              "      <td>10.149168</td>\n",
              "      <td>0.206463</td>\n",
              "    </tr>\n",
              "    <tr>\n",
              "      <th>min</th>\n",
              "      <td>2.019120e+07</td>\n",
              "      <td>140.000000</td>\n",
              "      <td>-118.920000</td>\n",
              "      <td>0.010000</td>\n",
              "      <td>1.000000</td>\n",
              "      <td>0.006300</td>\n",
              "      <td>0.000000</td>\n",
              "      <td>199.280000</td>\n",
              "      <td>12.810000</td>\n",
              "      <td>0.030000</td>\n",
              "    </tr>\n",
              "    <tr>\n",
              "      <th>25%</th>\n",
              "      <td>2.020032e+07</td>\n",
              "      <td>242.500000</td>\n",
              "      <td>-22.624000</td>\n",
              "      <td>0.230000</td>\n",
              "      <td>21.000000</td>\n",
              "      <td>0.006600</td>\n",
              "      <td>0.000000</td>\n",
              "      <td>278.130000</td>\n",
              "      <td>20.540000</td>\n",
              "      <td>0.191000</td>\n",
              "    </tr>\n",
              "    <tr>\n",
              "      <th>50%</th>\n",
              "      <td>2.020070e+07</td>\n",
              "      <td>287.500000</td>\n",
              "      <td>-5.252000</td>\n",
              "      <td>1.540000</td>\n",
              "      <td>44.000000</td>\n",
              "      <td>0.007900</td>\n",
              "      <td>0.606689</td>\n",
              "      <td>297.740000</td>\n",
              "      <td>24.150000</td>\n",
              "      <td>0.260000</td>\n",
              "    </tr>\n",
              "    <tr>\n",
              "      <th>75%</th>\n",
              "      <td>2.020102e+07</td>\n",
              "      <td>325.000000</td>\n",
              "      <td>7.676000</td>\n",
              "      <td>7.800000</td>\n",
              "      <td>78.000000</td>\n",
              "      <td>0.011000</td>\n",
              "      <td>0.840140</td>\n",
              "      <td>318.390000</td>\n",
              "      <td>30.200000</td>\n",
              "      <td>0.381000</td>\n",
              "    </tr>\n",
              "    <tr>\n",
              "      <th>max</th>\n",
              "      <td>2.021020e+07</td>\n",
              "      <td>500.000000</td>\n",
              "      <td>80.288000</td>\n",
              "      <td>290.200000</td>\n",
              "      <td>1099.000000</td>\n",
              "      <td>0.015300</td>\n",
              "      <td>18.490427</td>\n",
              "      <td>437.300000</td>\n",
              "      <td>69.240000</td>\n",
              "      <td>5.775000</td>\n",
              "    </tr>\n",
              "  </tbody>\n",
              "</table>\n",
              "</div>"
            ],
            "text/plain": [
              "               Date    StrikePrice  ...         VKOSPI  ImpliedVolatility\n",
              "count  1.678490e+05  167849.000000  ...  167849.000000      167849.000000\n",
              "mean   2.020090e+07     285.516059  ...      26.405780           0.314770\n",
              "std    3.676041e+03      62.472991  ...      10.149168           0.206463\n",
              "min    2.019120e+07     140.000000  ...      12.810000           0.030000\n",
              "25%    2.020032e+07     242.500000  ...      20.540000           0.191000\n",
              "50%    2.020070e+07     287.500000  ...      24.150000           0.260000\n",
              "75%    2.020102e+07     325.000000  ...      30.200000           0.381000\n",
              "max    2.021020e+07     500.000000  ...      69.240000           5.775000\n",
              "\n",
              "[8 rows x 10 columns]"
            ]
          },
          "metadata": {},
          "execution_count": 6
        }
      ]
    },
    {
      "cell_type": "code",
      "metadata": {
        "colab": {
          "base_uri": "https://localhost:8080/"
        },
        "id": "ykqMlZtQhb4Z",
        "outputId": "20de6229-79f1-4b67-ed3e-8abb377bf327"
      },
      "source": [
        "data.columns"
      ],
      "execution_count": 7,
      "outputs": [
        {
          "output_type": "execute_result",
          "data": {
            "text/plain": [
              "Index(['Code', 'Name', 'Date', 'Types', 'CallPut', 'StrikePrice',\n",
              "       'ScaledStrikePrice', 'LastPrice', 'RemainingDays', 'RiskFreeRate',\n",
              "       'OptionDividendRate', 'UnderlyingIndex', 'VKOSPI', 'ImpliedVolatility'],\n",
              "      dtype='object')"
            ]
          },
          "metadata": {},
          "execution_count": 7
        }
      ]
    },
    {
      "cell_type": "code",
      "metadata": {
        "id": "umDh5dsfiWFR"
      },
      "source": [
        "# Feature(X)와 Target(y) 선언하기\n",
        "\n",
        "X = data[['CallPut','ScaledStrikePrice', 'LastPrice', 'RemainingDays', 'RiskFreeRate', 'OptionDividendRate', 'UnderlyingIndex', 'VKOSPI']]\n",
        "y = data['ImpliedVolatility']"
      ],
      "execution_count": 8,
      "outputs": []
    },
    {
      "cell_type": "code",
      "metadata": {
        "colab": {
          "base_uri": "https://localhost:8080/",
          "height": 417
        },
        "id": "FwgKZknH928e",
        "outputId": "4e251a01-28ae-4d6c-a6d8-dc555cf567ff"
      },
      "source": [
        "X"
      ],
      "execution_count": 9,
      "outputs": [
        {
          "output_type": "execute_result",
          "data": {
            "text/html": [
              "<div>\n",
              "<style scoped>\n",
              "    .dataframe tbody tr th:only-of-type {\n",
              "        vertical-align: middle;\n",
              "    }\n",
              "\n",
              "    .dataframe tbody tr th {\n",
              "        vertical-align: top;\n",
              "    }\n",
              "\n",
              "    .dataframe thead th {\n",
              "        text-align: right;\n",
              "    }\n",
              "</style>\n",
              "<table border=\"1\" class=\"dataframe\">\n",
              "  <thead>\n",
              "    <tr style=\"text-align: right;\">\n",
              "      <th></th>\n",
              "      <th>CallPut</th>\n",
              "      <th>ScaledStrikePrice</th>\n",
              "      <th>LastPrice</th>\n",
              "      <th>RemainingDays</th>\n",
              "      <th>RiskFreeRate</th>\n",
              "      <th>OptionDividendRate</th>\n",
              "      <th>UnderlyingIndex</th>\n",
              "      <th>VKOSPI</th>\n",
              "    </tr>\n",
              "  </thead>\n",
              "  <tbody>\n",
              "    <tr>\n",
              "      <th>0</th>\n",
              "      <td>C</td>\n",
              "      <td>-39.180</td>\n",
              "      <td>95.00</td>\n",
              "      <td>10</td>\n",
              "      <td>0.0070</td>\n",
              "      <td>0.000000</td>\n",
              "      <td>415.45</td>\n",
              "      <td>34.16</td>\n",
              "    </tr>\n",
              "    <tr>\n",
              "      <th>1</th>\n",
              "      <td>C</td>\n",
              "      <td>-36.180</td>\n",
              "      <td>88.30</td>\n",
              "      <td>10</td>\n",
              "      <td>0.0070</td>\n",
              "      <td>0.000000</td>\n",
              "      <td>415.45</td>\n",
              "      <td>34.16</td>\n",
              "    </tr>\n",
              "    <tr>\n",
              "      <th>2</th>\n",
              "      <td>C</td>\n",
              "      <td>-36.180</td>\n",
              "      <td>89.20</td>\n",
              "      <td>39</td>\n",
              "      <td>0.0070</td>\n",
              "      <td>0.000000</td>\n",
              "      <td>415.45</td>\n",
              "      <td>34.16</td>\n",
              "    </tr>\n",
              "    <tr>\n",
              "      <th>3</th>\n",
              "      <td>C</td>\n",
              "      <td>-30.180</td>\n",
              "      <td>80.55</td>\n",
              "      <td>130</td>\n",
              "      <td>0.0070</td>\n",
              "      <td>0.606411</td>\n",
              "      <td>415.45</td>\n",
              "      <td>34.16</td>\n",
              "    </tr>\n",
              "    <tr>\n",
              "      <th>4</th>\n",
              "      <td>C</td>\n",
              "      <td>-26.180</td>\n",
              "      <td>52.00</td>\n",
              "      <td>10</td>\n",
              "      <td>0.0070</td>\n",
              "      <td>0.000000</td>\n",
              "      <td>415.45</td>\n",
              "      <td>34.16</td>\n",
              "    </tr>\n",
              "    <tr>\n",
              "      <th>...</th>\n",
              "      <td>...</td>\n",
              "      <td>...</td>\n",
              "      <td>...</td>\n",
              "      <td>...</td>\n",
              "      <td>...</td>\n",
              "      <td>...</td>\n",
              "      <td>...</td>\n",
              "      <td>...</td>\n",
              "    </tr>\n",
              "    <tr>\n",
              "      <th>167844</th>\n",
              "      <td>P</td>\n",
              "      <td>-0.976</td>\n",
              "      <td>0.70</td>\n",
              "      <td>4</td>\n",
              "      <td>0.0153</td>\n",
              "      <td>0.000000</td>\n",
              "      <td>277.44</td>\n",
              "      <td>13.96</td>\n",
              "    </tr>\n",
              "    <tr>\n",
              "      <th>167845</th>\n",
              "      <td>P</td>\n",
              "      <td>0.024</td>\n",
              "      <td>1.56</td>\n",
              "      <td>4</td>\n",
              "      <td>0.0153</td>\n",
              "      <td>0.000000</td>\n",
              "      <td>277.44</td>\n",
              "      <td>13.96</td>\n",
              "    </tr>\n",
              "    <tr>\n",
              "      <th>167846</th>\n",
              "      <td>P</td>\n",
              "      <td>1.024</td>\n",
              "      <td>2.99</td>\n",
              "      <td>4</td>\n",
              "      <td>0.0153</td>\n",
              "      <td>0.000000</td>\n",
              "      <td>277.44</td>\n",
              "      <td>13.96</td>\n",
              "    </tr>\n",
              "    <tr>\n",
              "      <th>167847</th>\n",
              "      <td>P</td>\n",
              "      <td>2.024</td>\n",
              "      <td>5.25</td>\n",
              "      <td>4</td>\n",
              "      <td>0.0153</td>\n",
              "      <td>0.000000</td>\n",
              "      <td>277.44</td>\n",
              "      <td>13.96</td>\n",
              "    </tr>\n",
              "    <tr>\n",
              "      <th>167848</th>\n",
              "      <td>P</td>\n",
              "      <td>3.024</td>\n",
              "      <td>7.10</td>\n",
              "      <td>4</td>\n",
              "      <td>0.0153</td>\n",
              "      <td>0.000000</td>\n",
              "      <td>277.44</td>\n",
              "      <td>13.96</td>\n",
              "    </tr>\n",
              "  </tbody>\n",
              "</table>\n",
              "<p>167849 rows × 8 columns</p>\n",
              "</div>"
            ],
            "text/plain": [
              "       CallPut  ScaledStrikePrice  ...  UnderlyingIndex  VKOSPI\n",
              "0            C            -39.180  ...           415.45   34.16\n",
              "1            C            -36.180  ...           415.45   34.16\n",
              "2            C            -36.180  ...           415.45   34.16\n",
              "3            C            -30.180  ...           415.45   34.16\n",
              "4            C            -26.180  ...           415.45   34.16\n",
              "...        ...                ...  ...              ...     ...\n",
              "167844       P             -0.976  ...           277.44   13.96\n",
              "167845       P              0.024  ...           277.44   13.96\n",
              "167846       P              1.024  ...           277.44   13.96\n",
              "167847       P              2.024  ...           277.44   13.96\n",
              "167848       P              3.024  ...           277.44   13.96\n",
              "\n",
              "[167849 rows x 8 columns]"
            ]
          },
          "metadata": {},
          "execution_count": 9
        }
      ]
    },
    {
      "cell_type": "code",
      "metadata": {
        "colab": {
          "base_uri": "https://localhost:8080/",
          "height": 417
        },
        "id": "LX9TH3af8o89",
        "outputId": "aa233e2e-995b-4d47-fec3-01d1e401f49f"
      },
      "source": [
        "# categorical data(CallPut) one-hot-encoding 하기\n",
        "X_features_ohe = pd.get_dummies(X, columns = ['CallPut'])\n",
        "X_features_ohe"
      ],
      "execution_count": 10,
      "outputs": [
        {
          "output_type": "execute_result",
          "data": {
            "text/html": [
              "<div>\n",
              "<style scoped>\n",
              "    .dataframe tbody tr th:only-of-type {\n",
              "        vertical-align: middle;\n",
              "    }\n",
              "\n",
              "    .dataframe tbody tr th {\n",
              "        vertical-align: top;\n",
              "    }\n",
              "\n",
              "    .dataframe thead th {\n",
              "        text-align: right;\n",
              "    }\n",
              "</style>\n",
              "<table border=\"1\" class=\"dataframe\">\n",
              "  <thead>\n",
              "    <tr style=\"text-align: right;\">\n",
              "      <th></th>\n",
              "      <th>ScaledStrikePrice</th>\n",
              "      <th>LastPrice</th>\n",
              "      <th>RemainingDays</th>\n",
              "      <th>RiskFreeRate</th>\n",
              "      <th>OptionDividendRate</th>\n",
              "      <th>UnderlyingIndex</th>\n",
              "      <th>VKOSPI</th>\n",
              "      <th>CallPut_C</th>\n",
              "      <th>CallPut_P</th>\n",
              "    </tr>\n",
              "  </thead>\n",
              "  <tbody>\n",
              "    <tr>\n",
              "      <th>0</th>\n",
              "      <td>-39.180</td>\n",
              "      <td>95.00</td>\n",
              "      <td>10</td>\n",
              "      <td>0.0070</td>\n",
              "      <td>0.000000</td>\n",
              "      <td>415.45</td>\n",
              "      <td>34.16</td>\n",
              "      <td>1</td>\n",
              "      <td>0</td>\n",
              "    </tr>\n",
              "    <tr>\n",
              "      <th>1</th>\n",
              "      <td>-36.180</td>\n",
              "      <td>88.30</td>\n",
              "      <td>10</td>\n",
              "      <td>0.0070</td>\n",
              "      <td>0.000000</td>\n",
              "      <td>415.45</td>\n",
              "      <td>34.16</td>\n",
              "      <td>1</td>\n",
              "      <td>0</td>\n",
              "    </tr>\n",
              "    <tr>\n",
              "      <th>2</th>\n",
              "      <td>-36.180</td>\n",
              "      <td>89.20</td>\n",
              "      <td>39</td>\n",
              "      <td>0.0070</td>\n",
              "      <td>0.000000</td>\n",
              "      <td>415.45</td>\n",
              "      <td>34.16</td>\n",
              "      <td>1</td>\n",
              "      <td>0</td>\n",
              "    </tr>\n",
              "    <tr>\n",
              "      <th>3</th>\n",
              "      <td>-30.180</td>\n",
              "      <td>80.55</td>\n",
              "      <td>130</td>\n",
              "      <td>0.0070</td>\n",
              "      <td>0.606411</td>\n",
              "      <td>415.45</td>\n",
              "      <td>34.16</td>\n",
              "      <td>1</td>\n",
              "      <td>0</td>\n",
              "    </tr>\n",
              "    <tr>\n",
              "      <th>4</th>\n",
              "      <td>-26.180</td>\n",
              "      <td>52.00</td>\n",
              "      <td>10</td>\n",
              "      <td>0.0070</td>\n",
              "      <td>0.000000</td>\n",
              "      <td>415.45</td>\n",
              "      <td>34.16</td>\n",
              "      <td>1</td>\n",
              "      <td>0</td>\n",
              "    </tr>\n",
              "    <tr>\n",
              "      <th>...</th>\n",
              "      <td>...</td>\n",
              "      <td>...</td>\n",
              "      <td>...</td>\n",
              "      <td>...</td>\n",
              "      <td>...</td>\n",
              "      <td>...</td>\n",
              "      <td>...</td>\n",
              "      <td>...</td>\n",
              "      <td>...</td>\n",
              "    </tr>\n",
              "    <tr>\n",
              "      <th>167844</th>\n",
              "      <td>-0.976</td>\n",
              "      <td>0.70</td>\n",
              "      <td>4</td>\n",
              "      <td>0.0153</td>\n",
              "      <td>0.000000</td>\n",
              "      <td>277.44</td>\n",
              "      <td>13.96</td>\n",
              "      <td>0</td>\n",
              "      <td>1</td>\n",
              "    </tr>\n",
              "    <tr>\n",
              "      <th>167845</th>\n",
              "      <td>0.024</td>\n",
              "      <td>1.56</td>\n",
              "      <td>4</td>\n",
              "      <td>0.0153</td>\n",
              "      <td>0.000000</td>\n",
              "      <td>277.44</td>\n",
              "      <td>13.96</td>\n",
              "      <td>0</td>\n",
              "      <td>1</td>\n",
              "    </tr>\n",
              "    <tr>\n",
              "      <th>167846</th>\n",
              "      <td>1.024</td>\n",
              "      <td>2.99</td>\n",
              "      <td>4</td>\n",
              "      <td>0.0153</td>\n",
              "      <td>0.000000</td>\n",
              "      <td>277.44</td>\n",
              "      <td>13.96</td>\n",
              "      <td>0</td>\n",
              "      <td>1</td>\n",
              "    </tr>\n",
              "    <tr>\n",
              "      <th>167847</th>\n",
              "      <td>2.024</td>\n",
              "      <td>5.25</td>\n",
              "      <td>4</td>\n",
              "      <td>0.0153</td>\n",
              "      <td>0.000000</td>\n",
              "      <td>277.44</td>\n",
              "      <td>13.96</td>\n",
              "      <td>0</td>\n",
              "      <td>1</td>\n",
              "    </tr>\n",
              "    <tr>\n",
              "      <th>167848</th>\n",
              "      <td>3.024</td>\n",
              "      <td>7.10</td>\n",
              "      <td>4</td>\n",
              "      <td>0.0153</td>\n",
              "      <td>0.000000</td>\n",
              "      <td>277.44</td>\n",
              "      <td>13.96</td>\n",
              "      <td>0</td>\n",
              "      <td>1</td>\n",
              "    </tr>\n",
              "  </tbody>\n",
              "</table>\n",
              "<p>167849 rows × 9 columns</p>\n",
              "</div>"
            ],
            "text/plain": [
              "        ScaledStrikePrice  LastPrice  ...  CallPut_C  CallPut_P\n",
              "0                 -39.180      95.00  ...          1          0\n",
              "1                 -36.180      88.30  ...          1          0\n",
              "2                 -36.180      89.20  ...          1          0\n",
              "3                 -30.180      80.55  ...          1          0\n",
              "4                 -26.180      52.00  ...          1          0\n",
              "...                   ...        ...  ...        ...        ...\n",
              "167844             -0.976       0.70  ...          0          1\n",
              "167845              0.024       1.56  ...          0          1\n",
              "167846              1.024       2.99  ...          0          1\n",
              "167847              2.024       5.25  ...          0          1\n",
              "167848              3.024       7.10  ...          0          1\n",
              "\n",
              "[167849 rows x 9 columns]"
            ]
          },
          "metadata": {},
          "execution_count": 10
        }
      ]
    },
    {
      "cell_type": "code",
      "metadata": {
        "colab": {
          "base_uri": "https://localhost:8080/",
          "height": 1000
        },
        "id": "WhlNBBfRJZdm",
        "outputId": "49be2c9b-a63f-4bb6-dedb-a076a274f3c2"
      },
      "source": [
        "!pip install mglearn\n",
        "\n",
        "import mglearn\n",
        "\n",
        "features =pd.DataFrame(X_features_ohe, columns=X_features_ohe.columns)\n",
        "pd.plotting.scatter_matrix(features, figsize=(15,15),marker='o',hist_kwds={'bins':20},s=60,alpha=.8,cmap=mglearn.cm3)"
      ],
      "execution_count": 12,
      "outputs": [
        {
          "output_type": "stream",
          "name": "stdout",
          "text": [
            "Collecting mglearn\n",
            "  Using cached mglearn-0.1.9-py2.py3-none-any.whl\n",
            "Requirement already satisfied: imageio in /usr/local/lib/python3.7/dist-packages (from mglearn) (2.4.1)\n",
            "Requirement already satisfied: joblib in /usr/local/lib/python3.7/dist-packages (from mglearn) (1.0.1)\n",
            "Requirement already satisfied: pandas in /usr/local/lib/python3.7/dist-packages (from mglearn) (1.1.5)\n",
            "Requirement already satisfied: pillow in /usr/local/lib/python3.7/dist-packages (from mglearn) (7.1.2)\n",
            "Requirement already satisfied: matplotlib in /usr/local/lib/python3.7/dist-packages (from mglearn) (3.2.2)\n",
            "Requirement already satisfied: numpy in /usr/local/lib/python3.7/dist-packages (from mglearn) (1.19.5)\n",
            "Requirement already satisfied: scikit-learn in /usr/local/lib/python3.7/dist-packages (from mglearn) (0.22.2.post1)\n",
            "Requirement already satisfied: cycler in /usr/local/lib/python3.7/dist-packages (from mglearn) (0.10.0)\n",
            "Requirement already satisfied: six in /usr/local/lib/python3.7/dist-packages (from cycler->mglearn) (1.15.0)\n",
            "Requirement already satisfied: python-dateutil>=2.1 in /usr/local/lib/python3.7/dist-packages (from matplotlib->mglearn) (2.8.2)\n",
            "Requirement already satisfied: kiwisolver>=1.0.1 in /usr/local/lib/python3.7/dist-packages (from matplotlib->mglearn) (1.3.2)\n",
            "Requirement already satisfied: pyparsing!=2.0.4,!=2.1.2,!=2.1.6,>=2.0.1 in /usr/local/lib/python3.7/dist-packages (from matplotlib->mglearn) (2.4.7)\n",
            "Requirement already satisfied: pytz>=2017.2 in /usr/local/lib/python3.7/dist-packages (from pandas->mglearn) (2018.9)\n",
            "Requirement already satisfied: scipy>=0.17.0 in /usr/local/lib/python3.7/dist-packages (from scikit-learn->mglearn) (1.4.1)\n",
            "Installing collected packages: mglearn\n",
            "Successfully installed mglearn-0.1.9\n"
          ]
        },
        {
          "output_type": "execute_result",
          "data": {
            "text/plain": [
              "array([[<matplotlib.axes._subplots.AxesSubplot object at 0x7fee8ca9ed90>,\n",
              "        <matplotlib.axes._subplots.AxesSubplot object at 0x7fee8ca84410>,\n",
              "        <matplotlib.axes._subplots.AxesSubplot object at 0x7fee8ca3fa90>,\n",
              "        <matplotlib.axes._subplots.AxesSubplot object at 0x7fee8ca00150>,\n",
              "        <matplotlib.axes._subplots.AxesSubplot object at 0x7fee8c9b37d0>,\n",
              "        <matplotlib.axes._subplots.AxesSubplot object at 0x7fee8c96ae50>,\n",
              "        <matplotlib.axes._subplots.AxesSubplot object at 0x7fee8c92b590>,\n",
              "        <matplotlib.axes._subplots.AxesSubplot object at 0x7fee8c8e0b50>,\n",
              "        <matplotlib.axes._subplots.AxesSubplot object at 0x7fee8c8e0b90>],\n",
              "       [<matplotlib.axes._subplots.AxesSubplot object at 0x7fee8c8a3350>,\n",
              "        <matplotlib.axes._subplots.AxesSubplot object at 0x7fee8ca6cb10>,\n",
              "        <matplotlib.axes._subplots.AxesSubplot object at 0x7fee8c90bd90>,\n",
              "        <matplotlib.axes._subplots.AxesSubplot object at 0x7fee8c8023d0>,\n",
              "        <matplotlib.axes._subplots.AxesSubplot object at 0x7fee8c7b7a50>,\n",
              "        <matplotlib.axes._subplots.AxesSubplot object at 0x7fee8c779110>,\n",
              "        <matplotlib.axes._subplots.AxesSubplot object at 0x7fee8c72f790>,\n",
              "        <matplotlib.axes._subplots.AxesSubplot object at 0x7fee8c6e3e10>,\n",
              "        <matplotlib.axes._subplots.AxesSubplot object at 0x7fee8c6a64d0>],\n",
              "       [<matplotlib.axes._subplots.AxesSubplot object at 0x7fee8c65bb50>,\n",
              "        <matplotlib.axes._subplots.AxesSubplot object at 0x7fee8c61d210>,\n",
              "        <matplotlib.axes._subplots.AxesSubplot object at 0x7fee8c652890>,\n",
              "        <matplotlib.axes._subplots.AxesSubplot object at 0x7fee8c597250>,\n",
              "        <matplotlib.axes._subplots.AxesSubplot object at 0x7fee8c5d3c10>,\n",
              "        <matplotlib.axes._subplots.AxesSubplot object at 0x7fee8c58df10>,\n",
              "        <matplotlib.axes._subplots.AxesSubplot object at 0x7fee8c5494d0>,\n",
              "        <matplotlib.axes._subplots.AxesSubplot object at 0x7fee8c4ffb50>,\n",
              "        <matplotlib.axes._subplots.AxesSubplot object at 0x7fee8c4c6210>],\n",
              "       [<matplotlib.axes._subplots.AxesSubplot object at 0x7fee8c478890>,\n",
              "        <matplotlib.axes._subplots.AxesSubplot object at 0x7fee8c42ef10>,\n",
              "        <matplotlib.axes._subplots.AxesSubplot object at 0x7fee8c3f05d0>,\n",
              "        <matplotlib.axes._subplots.AxesSubplot object at 0x7fee8c3a5c50>,\n",
              "        <matplotlib.axes._subplots.AxesSubplot object at 0x7fee8c366310>,\n",
              "        <matplotlib.axes._subplots.AxesSubplot object at 0x7fee8c31b990>,\n",
              "        <matplotlib.axes._subplots.AxesSubplot object at 0x7fee8c351fd0>,\n",
              "        <matplotlib.axes._subplots.AxesSubplot object at 0x7fee8c3136d0>,\n",
              "        <matplotlib.axes._subplots.AxesSubplot object at 0x7fee8c2c9d50>],\n",
              "       [<matplotlib.axes._subplots.AxesSubplot object at 0x7fee8c28b410>,\n",
              "        <matplotlib.axes._subplots.AxesSubplot object at 0x7fee8c241a90>,\n",
              "        <matplotlib.axes._subplots.AxesSubplot object at 0x7fee8c202150>,\n",
              "        <matplotlib.axes._subplots.AxesSubplot object at 0x7fee8c1b77d0>,\n",
              "        <matplotlib.axes._subplots.AxesSubplot object at 0x7fee8c171850>,\n",
              "        <matplotlib.axes._subplots.AxesSubplot object at 0x7fee8c125dd0>,\n",
              "        <matplotlib.axes._subplots.AxesSubplot object at 0x7fee8c0ea390>,\n",
              "        <matplotlib.axes._subplots.AxesSubplot object at 0x7fee8c09f910>,\n",
              "        <matplotlib.axes._subplots.AxesSubplot object at 0x7fee8c0d2e90>],\n",
              "       [<matplotlib.axes._subplots.AxesSubplot object at 0x7fee8c015450>,\n",
              "        <matplotlib.axes._subplots.AxesSubplot object at 0x7fee8c046a50>,\n",
              "        <matplotlib.axes._subplots.AxesSubplot object at 0x7fee8bff0b10>,\n",
              "        <matplotlib.axes._subplots.AxesSubplot object at 0x7fee8bfbb590>,\n",
              "        <matplotlib.axes._subplots.AxesSubplot object at 0x7fee8bf72b10>,\n",
              "        <matplotlib.axes._subplots.AxesSubplot object at 0x7fee8bf370d0>,\n",
              "        <matplotlib.axes._subplots.AxesSubplot object at 0x7fee8bee9650>,\n",
              "        <matplotlib.axes._subplots.AxesSubplot object at 0x7fee8be9ebd0>,\n",
              "        <matplotlib.axes._subplots.AxesSubplot object at 0x7fee8be61190>],\n",
              "       [<matplotlib.axes._subplots.AxesSubplot object at 0x7fee8be94710>,\n",
              "        <matplotlib.axes._subplots.AxesSubplot object at 0x7fee8be47c90>,\n",
              "        <matplotlib.axes._subplots.AxesSubplot object at 0x7fee8be0b250>,\n",
              "        <matplotlib.axes._subplots.AxesSubplot object at 0x7fee8bdc07d0>,\n",
              "        <matplotlib.axes._subplots.AxesSubplot object at 0x7fee8bd76d50>,\n",
              "        <matplotlib.axes._subplots.AxesSubplot object at 0x7fee8bd38310>,\n",
              "        <matplotlib.axes._subplots.AxesSubplot object at 0x7fee8bcea890>,\n",
              "        <matplotlib.axes._subplots.AxesSubplot object at 0x7fee8bc9fe10>,\n",
              "        <matplotlib.axes._subplots.AxesSubplot object at 0x7fee8bc623d0>],\n",
              "       [<matplotlib.axes._subplots.AxesSubplot object at 0x7fee8bc16950>,\n",
              "        <matplotlib.axes._subplots.AxesSubplot object at 0x7fee8bc4ced0>,\n",
              "        <matplotlib.axes._subplots.AxesSubplot object at 0x7fee8bc0d490>,\n",
              "        <matplotlib.axes._subplots.AxesSubplot object at 0x7fee8bbc3a10>,\n",
              "        <matplotlib.axes._subplots.AxesSubplot object at 0x7fee8c810390>,\n",
              "        <matplotlib.axes._subplots.AxesSubplot object at 0x7fee8c62b150>,\n",
              "        <matplotlib.axes._subplots.AxesSubplot object at 0x7fee8c4ce210>,\n",
              "        <matplotlib.axes._subplots.AxesSubplot object at 0x7fee8c2e7a10>,\n",
              "        <matplotlib.axes._subplots.AxesSubplot object at 0x7fee8bacb2d0>],\n",
              "       [<matplotlib.axes._subplots.AxesSubplot object at 0x7fee8ba81950>,\n",
              "        <matplotlib.axes._subplots.AxesSubplot object at 0x7fee8ba2bb10>,\n",
              "        <matplotlib.axes._subplots.AxesSubplot object at 0x7fee8b9f9690>,\n",
              "        <matplotlib.axes._subplots.AxesSubplot object at 0x7fee8b9aed10>,\n",
              "        <matplotlib.axes._subplots.AxesSubplot object at 0x7fee8b9713d0>,\n",
              "        <matplotlib.axes._subplots.AxesSubplot object at 0x7fee8b926a50>,\n",
              "        <matplotlib.axes._subplots.AxesSubplot object at 0x7fee8b8e6110>,\n",
              "        <matplotlib.axes._subplots.AxesSubplot object at 0x7fee8b89e790>,\n",
              "        <matplotlib.axes._subplots.AxesSubplot object at 0x7fee8b8d2e10>]],\n",
              "      dtype=object)"
            ]
          },
          "metadata": {},
          "execution_count": 12
        },
        {
          "output_type": "display_data",
          "data": {
            "image/png": "[encoded data removed]",
            "text/plain": [
              "<Figure size 1080x1080 with 81 Axes>"
            ]
          },
          "metadata": {
            "needs_background": "light"
          }
        }
      ]
    },
    {
      "cell_type": "code",
      "metadata": {
        "id": "HIJYL3qlitmj"
      },
      "source": [
        "# train, test set 분리\n",
        "\n",
        "from sklearn.model_selection import train_test_split\n",
        "\n",
        "X_train, X_test, y_train, y_test =  train_test_split(X_features_ohe, y, test_size=0.3, random_state=5)"
      ],
      "execution_count": 13,
      "outputs": []
    },
    {
      "cell_type": "code",
      "metadata": {
        "colab": {
          "base_uri": "https://localhost:8080/"
        },
        "id": "U8sghmiZi9-1",
        "outputId": "db5ba3aa-c3f5-4acd-e4dc-b2998149371d"
      },
      "source": [
        "# 차원 확인\n",
        "\n",
        "X_train.shape, X_test.shape, y_train.shape, y_test.shape"
      ],
      "execution_count": 14,
      "outputs": [
        {
          "output_type": "execute_result",
          "data": {
            "text/plain": [
              "((117494, 9), (50355, 9), (117494,), (50355,))"
            ]
          },
          "metadata": {},
          "execution_count": 14
        }
      ]
    },
    {
      "cell_type": "code",
      "metadata": {
        "id": "ia2owhV6jD4e"
      },
      "source": [
        "# 정규화\n",
        "\n",
        "from sklearn.preprocessing import StandardScaler\n",
        "\n",
        "ss = StandardScaler()\n",
        "ss.fit(X_train)\n",
        "\n",
        "train_scaled = ss.transform(X_train)\n",
        "test_scaled = ss.transform(X_test)"
      ],
      "execution_count": 15,
      "outputs": []
    },
    {
      "cell_type": "markdown",
      "metadata": {
        "id": "Vyaveou5_ozv"
      },
      "source": [
        "# *Linear Regression 계열"
      ]
    },
    {
      "cell_type": "code",
      "metadata": {
        "colab": {
          "base_uri": "https://localhost:8080/"
        },
        "id": "HPGpWoQM_oOP",
        "outputId": "2c17caa9-373f-432f-fdfe-f6b43cab1d16"
      },
      "source": [
        "# 1번 Linear Regression 모델\n",
        "\n",
        "from sklearn.linear_model import LinearRegression\n",
        "lr = linear_model.LinearRegression()\n",
        "lr.fit(train_scaled, y_train)\n",
        "pred = lr.predict(test_scaled)\n",
        "\n",
        "print('Training accuracy : {:.3f}'.format(lr.score(train_scaled,y_train)))\n",
        "print('Test accuracy : {:.3f}'.format(lr.score(test_scaled, y_test)))\n"
      ],
      "execution_count": null,
      "outputs": [
        {
          "output_type": "stream",
          "name": "stdout",
          "text": [
            "Training accuracy : 0.412\n",
            "Test accuracy : 0.410\n"
          ]
        }
      ]
    },
    {
      "cell_type": "code",
      "metadata": {
        "colab": {
          "base_uri": "https://localhost:8080/"
        },
        "id": "JDwzNN6HBxki",
        "outputId": "db672a9f-f584-4b73-ee93-8c9155afae7b"
      },
      "source": [
        "# 2번 Ridge 모델\n",
        "\n",
        "from sklearn.linear_model import Ridge\n",
        "\n",
        "ridge = Ridge(alpha = 10)\n",
        "ridge.fit(train_scaled, y_train)\n",
        "\n",
        "print('Training accuracy : {:.3f}'.format(ridge.score(train_scaled,y_train)))\n",
        "print('Test accuracy : {:.3f}'.format(ridge.score(test_scaled, y_test)))"
      ],
      "execution_count": null,
      "outputs": [
        {
          "output_type": "stream",
          "name": "stdout",
          "text": [
            "Training accuracy : 0.412\n",
            "Test accuracy : 0.410\n"
          ]
        }
      ]
    },
    {
      "cell_type": "code",
      "metadata": {
        "colab": {
          "base_uri": "https://localhost:8080/"
        },
        "id": "K7BpujfJFADz",
        "outputId": "a43dacad-ca95-46b1-9227-11a3c31582c1"
      },
      "source": [
        "# 3번 Lasso 모델\n",
        "from sklearn.linear_model import Lasso\n",
        "\n",
        "lasso = Lasso(alpha = 0.01)\n",
        "lasso.fit(train_scaled, y_train)\n",
        "\n",
        "print('Training accuracy : {:.3f}'.format(lasso.score(train_scaled,y_train)))\n",
        "print('Test accuracy : {:.3f}'.format(lasso.score(test_scaled, y_test)))"
      ],
      "execution_count": null,
      "outputs": [
        {
          "output_type": "stream",
          "name": "stdout",
          "text": [
            "Training accuracy : 0.399\n",
            "Test accuracy : 0.395\n"
          ]
        }
      ]
    },
    {
      "cell_type": "code",
      "metadata": {
        "id": "sodUjDBQFmGi"
      },
      "source": [
        ""
      ],
      "execution_count": null,
      "outputs": []
    },
    {
      "cell_type": "markdown",
      "metadata": {
        "id": "DaionHkY_hf2"
      },
      "source": [
        "# * Tree 계열"
      ]
    },
    {
      "cell_type": "code",
      "metadata": {
        "colab": {
          "base_uri": "https://localhost:8080/"
        },
        "id": "r6K4aww1jqr6",
        "outputId": "8015fab5-8774-4531-bc38-f3c34db118bd"
      },
      "source": [
        "# 1번 모델 Decision Tree(Single Model)\n",
        "\n",
        "from sklearn.tree import DecisionTreeRegressor\n",
        "\n",
        "dt = DecisionTreeRegressor(random_state=5)\n",
        "dt.fit(train_scaled, y_train)\n",
        "\n",
        "print(dt.score(train_scaled, y_train))\n",
        "print(dt.score(test_scaled, y_test))"
      ],
      "execution_count": null,
      "outputs": [
        {
          "output_type": "stream",
          "name": "stdout",
          "text": [
            "0.9999999949454184\n",
            "0.9570399741074154\n"
          ]
        }
      ]
    },
    {
      "cell_type": "code",
      "metadata": {
        "colab": {
          "base_uri": "https://localhost:8080/"
        },
        "id": "TwHijUyNkjUT",
        "outputId": "e50748c8-ba51-4702-f1fc-fecaaeb931b5"
      },
      "source": [
        "# 2번 모델 RandomForestRegressor\n",
        "\n",
        "from sklearn.ensemble import RandomForestRegressor\n",
        "\n",
        "\n",
        "forest = RandomForestRegressor(n_estimators = 100,n_jobs = -1,oob_score = True, random_state = 5)\n",
        "forest.fit(train_scaled, y_train)"
      ],
      "execution_count": null,
      "outputs": [
        {
          "output_type": "execute_result",
          "data": {
            "text/plain": [
              "RandomForestRegressor(bootstrap=True, ccp_alpha=0.0, criterion='mse',\n",
              "                      max_depth=None, max_features='auto', max_leaf_nodes=None,\n",
              "                      max_samples=None, min_impurity_decrease=0.0,\n",
              "                      min_impurity_split=None, min_samples_leaf=1,\n",
              "                      min_samples_split=2, min_weight_fraction_leaf=0.0,\n",
              "                      n_estimators=100, n_jobs=-1, oob_score=True,\n",
              "                      random_state=5, verbose=0, warm_start=False)"
            ]
          },
          "metadata": {},
          "execution_count": 86
        }
      ]
    },
    {
      "cell_type": "code",
      "metadata": {
        "colab": {
          "base_uri": "https://localhost:8080/"
        },
        "id": "DoV-5IF7mvGD",
        "outputId": "b9319bb5-ae92-485f-ea9f-a6634454b9b1"
      },
      "source": [
        "# RandomForest 성능\n",
        "\n",
        "print('Training accuracy : {:.3f}'.format(forest.score(train_scaled,y_train)))\n",
        "print('Test accuracy : {:.3f}'.format(forest.score(test_scaled, y_test)))"
      ],
      "execution_count": null,
      "outputs": [
        {
          "output_type": "stream",
          "name": "stdout",
          "text": [
            "Training accuracy : 0.994\n",
            "Test accuracy : 0.969\n"
          ]
        }
      ]
    },
    {
      "cell_type": "code",
      "metadata": {
        "colab": {
          "base_uri": "https://localhost:8080/",
          "height": 282
        },
        "id": "1EGxYfzzCrV0",
        "outputId": "38c2e523-040b-4b06-fd53-0ae4e45cec47"
      },
      "source": [
        "# feature importance 비교\n",
        "\n",
        "feature_series = pd.Series(data = forest.feature_importances_, index = X_features_ohe.columns)\n",
        "feature_series = feature_series.sort_values(ascending = False)\n",
        "sns.barplot(x = feature_series, y = feature_series.index)"
      ],
      "execution_count": null,
      "outputs": [
        {
          "output_type": "execute_result",
          "data": {
            "text/plain": [
              "<matplotlib.axes._subplots.AxesSubplot at 0x7f7a5ffc2e90>"
            ]
          },
          "metadata": {},
          "execution_count": 102
        },
        {
          "output_type": "display_data",
          "data": {
            "image/png": "[encoded data removed]",
            "text/plain": [
              "<Figure size 432x288 with 1 Axes>"
            ]
          },
          "metadata": {
            "needs_background": "light"
          }
        }
      ]
    },
    {
      "cell_type": "code",
      "metadata": {
        "colab": {
          "base_uri": "https://localhost:8080/"
        },
        "id": "qObNOT2TmE3b",
        "outputId": "0ed30fe9-fbfd-43f8-8471-745836f02c68"
      },
      "source": [
        "# 3번 모델 Gradient Boosting Regressor\n",
        "\n",
        "from sklearn.ensemble import GradientBoostingRegressor\n",
        "\n",
        "gbr = GradientBoostingRegressor(random_state = 0)\n",
        "gbr.fit(train_scaled, y_train)"
      ],
      "execution_count": null,
      "outputs": [
        {
          "output_type": "execute_result",
          "data": {
            "text/plain": [
              "GradientBoostingRegressor(alpha=0.9, ccp_alpha=0.0, criterion='friedman_mse',\n",
              "                          init=None, learning_rate=0.1, loss='ls', max_depth=3,\n",
              "                          max_features=None, max_leaf_nodes=None,\n",
              "                          min_impurity_decrease=0.0, min_impurity_split=None,\n",
              "                          min_samples_leaf=1, min_samples_split=2,\n",
              "                          min_weight_fraction_leaf=0.0, n_estimators=100,\n",
              "                          n_iter_no_change=None, presort='deprecated',\n",
              "                          random_state=0, subsample=1.0, tol=0.0001,\n",
              "                          validation_fraction=0.1, verbose=0, warm_start=False)"
            ]
          },
          "metadata": {},
          "execution_count": 88
        }
      ]
    },
    {
      "cell_type": "code",
      "metadata": {
        "colab": {
          "base_uri": "https://localhost:8080/"
        },
        "id": "u2Sv7hQonAHW",
        "outputId": "d83f0d62-1b30-4c15-8390-851cda41cf49"
      },
      "source": [
        "# Gradient Boosting Regressor 성능\n",
        "\n",
        "print('Training accuracy : {:.3f}'.format(gbr.score(train_scaled,y_train)))\n",
        "print('test Accuracy: {:.3f}'.format(gbr.score(test_scaled, y_test)))\n"
      ],
      "execution_count": null,
      "outputs": [
        {
          "output_type": "stream",
          "name": "stdout",
          "text": [
            "Training accuracy : 0.872\n",
            "test Accuracy: 0.879\n"
          ]
        }
      ]
    },
    {
      "cell_type": "code",
      "metadata": {
        "colab": {
          "base_uri": "https://localhost:8080/",
          "height": 282
        },
        "id": "sALbwiVMECIM",
        "outputId": "0803a343-92e1-4c58-a45f-7338596813c7"
      },
      "source": [
        "# feature importance 비교\n",
        "\n",
        "feature_series = pd.Series(data = gbr.feature_importances_, index = X_features_ohe.columns)\n",
        "feature_series = feature_series.sort_values(ascending = False)\n",
        "sns.barplot(x = feature_series, y = feature_series.index)"
      ],
      "execution_count": null,
      "outputs": [
        {
          "output_type": "execute_result",
          "data": {
            "text/plain": [
              "<matplotlib.axes._subplots.AxesSubplot at 0x7f7a724a0050>"
            ]
          },
          "metadata": {},
          "execution_count": 104
        },
        {
          "output_type": "display_data",
          "data": {
            "image/png": "[encoded data removed]",
            "text/plain": [
              "<Figure size 432x288 with 1 Axes>"
            ]
          },
          "metadata": {
            "needs_background": "light"
          }
        }
      ]
    },
    {
      "cell_type": "code",
      "metadata": {
        "colab": {
          "base_uri": "https://localhost:8080/"
        },
        "id": "0JEtonly40co",
        "outputId": "75c23caa-8cb7-4c18-bd64-129376f13533"
      },
      "source": [
        "# 4번 모델 AdaBoost 모델\n",
        "from sklearn.ensemble import AdaBoostRegressor\n",
        "\n",
        "abr = AdaBoostRegressor(random_state = 0)\n",
        "abr.fit(train_scaled, y_train)"
      ],
      "execution_count": null,
      "outputs": [
        {
          "output_type": "execute_result",
          "data": {
            "text/plain": [
              "AdaBoostRegressor(base_estimator=None, learning_rate=1.0, loss='linear',\n",
              "                  n_estimators=50, random_state=0)"
            ]
          },
          "metadata": {},
          "execution_count": 90
        }
      ]
    },
    {
      "cell_type": "code",
      "metadata": {
        "colab": {
          "base_uri": "https://localhost:8080/"
        },
        "id": "ah-C2FVREQjO",
        "outputId": "b17b50d8-7aec-4dd4-ddca-928a7b220f7b"
      },
      "source": [
        "print('Training accuracy : {:.3f}'.format(abr.score(train_scaled,y_train)))\n",
        "print('test Accuracy: {:.3f}'.format(abr.score(test_scaled, y_test)))"
      ],
      "execution_count": null,
      "outputs": [
        {
          "output_type": "stream",
          "name": "stdout",
          "text": [
            "Training accuracy : -0.192\n",
            "test Accuracy: -0.175\n"
          ]
        }
      ]
    },
    {
      "cell_type": "code",
      "metadata": {
        "colab": {
          "base_uri": "https://localhost:8080/"
        },
        "id": "P-uK-GjbnJed",
        "outputId": "678b39cf-e83a-4048-b120-68885cb7a6d6"
      },
      "source": [
        "# 5번 모델 Bagging\n",
        "\n",
        "from sklearn.ensemble import BaggingRegressor\n",
        "\n",
        "bagging = BaggingRegressor(DecisionTreeRegressor(), n_estimators =100, oob_score = True, n_jobs = -1, random_state = 0 )\n",
        "bagging.fit(train_scaled, y_train)\n"
      ],
      "execution_count": null,
      "outputs": [
        {
          "output_type": "execute_result",
          "data": {
            "text/plain": [
              "BaggingRegressor(base_estimator=DecisionTreeRegressor(ccp_alpha=0.0,\n",
              "                                                      criterion='mse',\n",
              "                                                      max_depth=None,\n",
              "                                                      max_features=None,\n",
              "                                                      max_leaf_nodes=None,\n",
              "                                                      min_impurity_decrease=0.0,\n",
              "                                                      min_impurity_split=None,\n",
              "                                                      min_samples_leaf=1,\n",
              "                                                      min_samples_split=2,\n",
              "                                                      min_weight_fraction_leaf=0.0,\n",
              "                                                      presort='deprecated',\n",
              "                                                      random_state=None,\n",
              "                                                      splitter='best'),\n",
              "                 bootstrap=True, bootstrap_features=False, max_features=1.0,\n",
              "                 max_samples=1.0, n_estimators=100, n_jobs=-1, oob_score=True,\n",
              "                 random_state=0, verbose=0, warm_start=False)"
            ]
          },
          "metadata": {},
          "execution_count": 91
        }
      ]
    },
    {
      "cell_type": "code",
      "metadata": {
        "colab": {
          "base_uri": "https://localhost:8080/"
        },
        "id": "jrhqmeVZ4J5W",
        "outputId": "886fef32-ec3d-4547-d471-b427fc16f82e"
      },
      "source": [
        "print('Training accuracy : {:.3f}'.format(bagging.score(train_scaled,y_train)))\n",
        "print('test Accuracy: {:.3f}'.format(bagging.score(test_scaled, y_test)))\n",
        "print('OOB sample Accuracy : {:.3f}'.format(bagging.oob_score_))"
      ],
      "execution_count": null,
      "outputs": [
        {
          "output_type": "stream",
          "name": "stdout",
          "text": [
            "Training accuracy : 0.994\n",
            "test Accuracy: 0.969\n",
            "OOB sample Accuracy : 0.959\n"
          ]
        }
      ]
    },
    {
      "cell_type": "code",
      "metadata": {
        "colab": {
          "base_uri": "https://localhost:8080/"
        },
        "id": "3nfTdcDcEguJ",
        "outputId": "128ca67f-2334-41f8-f056-ed84f8ff9e82"
      },
      "source": [
        "# SVR 모델\n",
        "\n",
        "from sklearn.svm import LinearSVR\n",
        "svr= LinearSVR(max_iter = 10000)\n",
        "svr.fit(train_scaled,y_train)\n",
        "\n",
        "print(\"훈련 세트 정확도: {:.2f}\".format(svr.score(train_scaled,y_train)))\n",
        "print(\"테스트 세트 정확도:{:.2f}\".format(svr.score(test_scaled,y_test)))\n"
      ],
      "execution_count": 16,
      "outputs": [
        {
          "output_type": "stream",
          "name": "stdout",
          "text": [
            "훈련 세트 정확도: 0.38\n",
            "테스트 세트 정확도:0.37\n"
          ]
        }
      ]
    },
    {
      "cell_type": "code",
      "metadata": {
        "colab": {
          "base_uri": "https://localhost:8080/"
        },
        "id": "i4Ct8nQUP8QS",
        "outputId": "076456d9-d54c-41c2-a29f-3f296390ba1e"
      },
      "source": [
        "# K-Nearest Neighbors 모델\n",
        "from sklearn.neighbors import KNeighborsRegressor\n",
        "knn= KNeighborsRegressor()\n",
        "knn.fit(train_scaled,y_train)\n",
        "\n",
        "print(\"훈련 세트 정확도: {:.2f}\".format(knn.score(train_scaled,y_train)))\n",
        "print(\"테스트 세트 정확도:{:.2f}\".format(knn.score(test_scaled,y_test)))"
      ],
      "execution_count": null,
      "outputs": [
        {
          "output_type": "stream",
          "name": "stdout",
          "text": [
            "훈련 세트 정확도: 0.93\n",
            "테스트 세트 정확도:0.90\n"
          ]
        }
      ]
    },
    {
      "cell_type": "code",
      "metadata": {
        "id": "RnQ12zzIRIda"
      },
      "source": [
        ""
      ],
      "execution_count": null,
      "outputs": []
    }
  ]
}