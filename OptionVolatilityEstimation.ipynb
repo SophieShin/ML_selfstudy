{
  "nbformat": 4,
  "nbformat_minor": 0,
  "metadata": {
    "colab": {
      "name": "OptionVolatilityEstimation",
      "provenance": [],
      "collapsed_sections": [],
      "authorship_tag": "ABX9TyPzyiGyrXPutRVvZs45PTgN",
      "include_colab_link": true
    },
    "kernelspec": {
      "name": "python3",
      "display_name": "Python 3"
    },
    "language_info": {
      "name": "python"
    }
  },
  "cells": [
    {
      "cell_type": "markdown",
      "metadata": {
        "id": "view-in-github",
        "colab_type": "text"
      },
      "source": [
        "<a href=\"https://colab.research.google.com/github/SophieShin/ML_selfstudy/blob/main/OptionVolatilityEstimation.ipynb\" target=\"_parent\"><img src=\"https://colab.research.google.com/assets/colab-badge.svg\" alt=\"Open In Colab\"/></a>"
      ]
    },
    {
      "cell_type": "code",
      "metadata": {
        "colab": {
          "base_uri": "https://localhost:8080/"
        },
        "id": "bmqQGGAta65L",
        "outputId": "1b056092-8f70-4b8c-8856-5964393b1f5d"
      },
      "source": [
        "import os\n",
        "from google.colab import drive\n",
        "\n",
        "drive.mount('/content/gdrive/')"
      ],
      "execution_count": 1,
      "outputs": [
        {
          "output_type": "stream",
          "name": "stdout",
          "text": [
            "Mounted at /content/gdrive/\n"
          ]
        }
      ]
    },
    {
      "cell_type": "code",
      "metadata": {
        "id": "UgN8evXYb57h"
      },
      "source": [
        "os.chdir('/content/gdrive/MyDrive/Colab Notebooks/Programming for AI')    ## 현재 작업 환경으로 설정한 경로를 입력"
      ],
      "execution_count": 2,
      "outputs": []
    },
    {
      "cell_type": "code",
      "metadata": {
        "id": "H-EFa5zcbNuh"
      },
      "source": [
        "import pandas as pd\n",
        "import numpy as np\n",
        "\n",
        "data = pd.read_csv('OptionVolatility.csv', encoding = 'cp949')"
      ],
      "execution_count": 3,
      "outputs": []
    },
    {
      "cell_type": "code",
      "metadata": {
        "colab": {
          "resources": {
            "http://localhost:8080/nbextensions/google.colab/files.js": {
              "data": "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",
              "ok": true,
              "headers": [
                [
                  "content-type",
                  "application/javascript"
                ]
              ],
              "status": 200,
              "status_text": ""
            }
          },
          "base_uri": "https://localhost:8080/",
          "height": 76
        },
        "id": "ymPGTERwA9Bv",
        "outputId": "42b50415-977d-4c75-fbd4-905d079dbff9"
      },
      "source": [
        "# 마운트 안되는 경우 대비\n",
        "\n",
        "from google.colab import files\n",
        "uploaded= files.upload()"
      ],
      "execution_count": null,
      "outputs": [
        {
          "output_type": "display_data",
          "data": {
            "text/html": [
              "\n",
              "     <input type=\"file\" id=\"files-f3d83220-4cb4-46c8-9894-8368b2d11460\" name=\"files[]\" multiple disabled\n",
              "        style=\"border:none\" />\n",
              "     <output id=\"result-f3d83220-4cb4-46c8-9894-8368b2d11460\">\n",
              "      Upload widget is only available when the cell has been executed in the\n",
              "      current browser session. Please rerun this cell to enable.\n",
              "      </output>\n",
              "      <script src=\"/nbextensions/google.colab/files.js\"></script> "
            ],
            "text/plain": [
              "<IPython.core.display.HTML object>"
            ]
          },
          "metadata": {}
        },
        {
          "output_type": "stream",
          "name": "stdout",
          "text": [
            "Saving OptionVolatility.csv to OptionVolatility.csv\n"
          ]
        }
      ]
    },
    {
      "cell_type": "code",
      "metadata": {
        "colab": {
          "base_uri": "https://localhost:8080/"
        },
        "id": "Lziuwak8bZ-u",
        "outputId": "3f72fcf9-7c92-4e90-bf6c-a56dc0cccfca"
      },
      "source": [
        "data.shape"
      ],
      "execution_count": null,
      "outputs": [
        {
          "output_type": "execute_result",
          "data": {
            "text/plain": [
              "(167849, 14)"
            ]
          },
          "metadata": {},
          "execution_count": 4
        }
      ]
    },
    {
      "cell_type": "code",
      "metadata": {
        "colab": {
          "base_uri": "https://localhost:8080/"
        },
        "id": "4cr1VZ8cg7kX",
        "outputId": "715d7d32-ce92-41e0-f639-00ecaade8bc3"
      },
      "source": [
        "data.info()\n",
        "# null값 없음"
      ],
      "execution_count": null,
      "outputs": [
        {
          "output_type": "stream",
          "name": "stdout",
          "text": [
            "<class 'pandas.core.frame.DataFrame'>\n",
            "RangeIndex: 167849 entries, 0 to 167848\n",
            "Data columns (total 14 columns):\n",
            " #   Column              Non-Null Count   Dtype  \n",
            "---  ------              --------------   -----  \n",
            " 0   Code                167849 non-null  object \n",
            " 1   Name                167849 non-null  object \n",
            " 2   Date                167849 non-null  int64  \n",
            " 3   Types               167849 non-null  object \n",
            " 4   CallPut             167849 non-null  object \n",
            " 5   StrikePrice         167849 non-null  float64\n",
            " 6   ScaledStrikePrice   167849 non-null  float64\n",
            " 7   LastPrice           167849 non-null  float64\n",
            " 8   RemainingDays       167849 non-null  int64  \n",
            " 9   RiskFreeRate        167849 non-null  float64\n",
            " 10  OptionDividendRate  167849 non-null  float64\n",
            " 11  UnderlyingIndex     167849 non-null  float64\n",
            " 12  VKOSPI              167849 non-null  float64\n",
            " 13  ImpliedVolatility   167849 non-null  float64\n",
            "dtypes: float64(8), int64(2), object(4)\n",
            "memory usage: 17.9+ MB\n"
          ]
        }
      ]
    },
    {
      "cell_type": "code",
      "metadata": {
        "colab": {
          "base_uri": "https://localhost:8080/",
          "height": 300
        },
        "id": "N_Ihk_OchAAc",
        "outputId": "fe4c6bef-5b04-4fed-8fb2-d70b8a7950a5"
      },
      "source": [
        "data.describe()"
      ],
      "execution_count": null,
      "outputs": [
        {
          "output_type": "execute_result",
          "data": {
            "text/html": [
              "<div>\n",
              "<style scoped>\n",
              "    .dataframe tbody tr th:only-of-type {\n",
              "        vertical-align: middle;\n",
              "    }\n",
              "\n",
              "    .dataframe tbody tr th {\n",
              "        vertical-align: top;\n",
              "    }\n",
              "\n",
              "    .dataframe thead th {\n",
              "        text-align: right;\n",
              "    }\n",
              "</style>\n",
              "<table border=\"1\" class=\"dataframe\">\n",
              "  <thead>\n",
              "    <tr style=\"text-align: right;\">\n",
              "      <th></th>\n",
              "      <th>Date</th>\n",
              "      <th>StrikePrice</th>\n",
              "      <th>ScaledStrikePrice</th>\n",
              "      <th>LastPrice</th>\n",
              "      <th>RemainingDays</th>\n",
              "      <th>RiskFreeRate</th>\n",
              "      <th>OptionDividendRate</th>\n",
              "      <th>UnderlyingIndex</th>\n",
              "      <th>VKOSPI</th>\n",
              "      <th>ImpliedVolatility</th>\n",
              "    </tr>\n",
              "  </thead>\n",
              "  <tbody>\n",
              "    <tr>\n",
              "      <th>count</th>\n",
              "      <td>1.678490e+05</td>\n",
              "      <td>167849.000000</td>\n",
              "      <td>167849.000000</td>\n",
              "      <td>167849.000000</td>\n",
              "      <td>167849.000000</td>\n",
              "      <td>167849.000000</td>\n",
              "      <td>167849.000000</td>\n",
              "      <td>167849.000000</td>\n",
              "      <td>167849.000000</td>\n",
              "      <td>167849.000000</td>\n",
              "    </tr>\n",
              "    <tr>\n",
              "      <th>mean</th>\n",
              "      <td>2.020090e+07</td>\n",
              "      <td>285.516059</td>\n",
              "      <td>-8.068731</td>\n",
              "      <td>8.044378</td>\n",
              "      <td>78.327276</td>\n",
              "      <td>0.009424</td>\n",
              "      <td>1.164245</td>\n",
              "      <td>305.687886</td>\n",
              "      <td>26.405780</td>\n",
              "      <td>0.314770</td>\n",
              "    </tr>\n",
              "    <tr>\n",
              "      <th>std</th>\n",
              "      <td>3.676041e+03</td>\n",
              "      <td>62.472991</td>\n",
              "      <td>23.450348</td>\n",
              "      <td>17.453706</td>\n",
              "      <td>126.295958</td>\n",
              "      <td>0.003253</td>\n",
              "      <td>2.103931</td>\n",
              "      <td>49.848465</td>\n",
              "      <td>10.149168</td>\n",
              "      <td>0.206463</td>\n",
              "    </tr>\n",
              "    <tr>\n",
              "      <th>min</th>\n",
              "      <td>2.019120e+07</td>\n",
              "      <td>140.000000</td>\n",
              "      <td>-118.920000</td>\n",
              "      <td>0.010000</td>\n",
              "      <td>1.000000</td>\n",
              "      <td>0.006300</td>\n",
              "      <td>0.000000</td>\n",
              "      <td>199.280000</td>\n",
              "      <td>12.810000</td>\n",
              "      <td>0.030000</td>\n",
              "    </tr>\n",
              "    <tr>\n",
              "      <th>25%</th>\n",
              "      <td>2.020032e+07</td>\n",
              "      <td>242.500000</td>\n",
              "      <td>-22.624000</td>\n",
              "      <td>0.230000</td>\n",
              "      <td>21.000000</td>\n",
              "      <td>0.006600</td>\n",
              "      <td>0.000000</td>\n",
              "      <td>278.130000</td>\n",
              "      <td>20.540000</td>\n",
              "      <td>0.191000</td>\n",
              "    </tr>\n",
              "    <tr>\n",
              "      <th>50%</th>\n",
              "      <td>2.020070e+07</td>\n",
              "      <td>287.500000</td>\n",
              "      <td>-5.252000</td>\n",
              "      <td>1.540000</td>\n",
              "      <td>44.000000</td>\n",
              "      <td>0.007900</td>\n",
              "      <td>0.606689</td>\n",
              "      <td>297.740000</td>\n",
              "      <td>24.150000</td>\n",
              "      <td>0.260000</td>\n",
              "    </tr>\n",
              "    <tr>\n",
              "      <th>75%</th>\n",
              "      <td>2.020102e+07</td>\n",
              "      <td>325.000000</td>\n",
              "      <td>7.676000</td>\n",
              "      <td>7.800000</td>\n",
              "      <td>78.000000</td>\n",
              "      <td>0.011000</td>\n",
              "      <td>0.840140</td>\n",
              "      <td>318.390000</td>\n",
              "      <td>30.200000</td>\n",
              "      <td>0.381000</td>\n",
              "    </tr>\n",
              "    <tr>\n",
              "      <th>max</th>\n",
              "      <td>2.021020e+07</td>\n",
              "      <td>500.000000</td>\n",
              "      <td>80.288000</td>\n",
              "      <td>290.200000</td>\n",
              "      <td>1099.000000</td>\n",
              "      <td>0.015300</td>\n",
              "      <td>18.490427</td>\n",
              "      <td>437.300000</td>\n",
              "      <td>69.240000</td>\n",
              "      <td>5.775000</td>\n",
              "    </tr>\n",
              "  </tbody>\n",
              "</table>\n",
              "</div>"
            ],
            "text/plain": [
              "               Date    StrikePrice  ...         VKOSPI  ImpliedVolatility\n",
              "count  1.678490e+05  167849.000000  ...  167849.000000      167849.000000\n",
              "mean   2.020090e+07     285.516059  ...      26.405780           0.314770\n",
              "std    3.676041e+03      62.472991  ...      10.149168           0.206463\n",
              "min    2.019120e+07     140.000000  ...      12.810000           0.030000\n",
              "25%    2.020032e+07     242.500000  ...      20.540000           0.191000\n",
              "50%    2.020070e+07     287.500000  ...      24.150000           0.260000\n",
              "75%    2.020102e+07     325.000000  ...      30.200000           0.381000\n",
              "max    2.021020e+07     500.000000  ...      69.240000           5.775000\n",
              "\n",
              "[8 rows x 10 columns]"
            ]
          },
          "metadata": {},
          "execution_count": 6
        }
      ]
    },
    {
      "cell_type": "code",
      "metadata": {
        "colab": {
          "base_uri": "https://localhost:8080/"
        },
        "id": "ykqMlZtQhb4Z",
        "outputId": "85b95c70-31db-46be-e72c-da59a7079842"
      },
      "source": [
        "data.columns"
      ],
      "execution_count": null,
      "outputs": [
        {
          "output_type": "execute_result",
          "data": {
            "text/plain": [
              "Index(['Code', 'Name', 'Date', 'Types', 'CallPut', 'StrikePrice',\n",
              "       'ScaledStrikePrice', 'LastPrice', 'RemainingDays', 'RiskFreeRate',\n",
              "       'OptionDividendRate', 'UnderlyingIndex', 'VKOSPI', 'ImpliedVolatility'],\n",
              "      dtype='object')"
            ]
          },
          "metadata": {},
          "execution_count": 7
        }
      ]
    },
    {
      "cell_type": "code",
      "metadata": {
        "id": "umDh5dsfiWFR"
      },
      "source": [
        "# Feature(X)와 Target(y) 선언하기\n",
        "\n",
        "X = data[['CallPut','ScaledStrikePrice', 'LastPrice', 'RemainingDays', 'RiskFreeRate', 'OptionDividendRate', 'UnderlyingIndex', 'VKOSPI']]\n",
        "y = data['ImpliedVolatility']"
      ],
      "execution_count": 4,
      "outputs": []
    },
    {
      "cell_type": "code",
      "metadata": {
        "colab": {
          "base_uri": "https://localhost:8080/",
          "height": 423
        },
        "id": "FwgKZknH928e",
        "outputId": "c84f485e-37cb-437b-a968-5fd8e25e95a6"
      },
      "source": [
        "X"
      ],
      "execution_count": null,
      "outputs": [
        {
          "output_type": "execute_result",
          "data": {
            "text/html": [
              "<div>\n",
              "<style scoped>\n",
              "    .dataframe tbody tr th:only-of-type {\n",
              "        vertical-align: middle;\n",
              "    }\n",
              "\n",
              "    .dataframe tbody tr th {\n",
              "        vertical-align: top;\n",
              "    }\n",
              "\n",
              "    .dataframe thead th {\n",
              "        text-align: right;\n",
              "    }\n",
              "</style>\n",
              "<table border=\"1\" class=\"dataframe\">\n",
              "  <thead>\n",
              "    <tr style=\"text-align: right;\">\n",
              "      <th></th>\n",
              "      <th>CallPut</th>\n",
              "      <th>ScaledStrikePrice</th>\n",
              "      <th>LastPrice</th>\n",
              "      <th>RemainingDays</th>\n",
              "      <th>RiskFreeRate</th>\n",
              "      <th>OptionDividendRate</th>\n",
              "      <th>UnderlyingIndex</th>\n",
              "      <th>VKOSPI</th>\n",
              "    </tr>\n",
              "  </thead>\n",
              "  <tbody>\n",
              "    <tr>\n",
              "      <th>0</th>\n",
              "      <td>C</td>\n",
              "      <td>-39.180</td>\n",
              "      <td>95.00</td>\n",
              "      <td>10</td>\n",
              "      <td>0.0070</td>\n",
              "      <td>0.000000</td>\n",
              "      <td>415.45</td>\n",
              "      <td>34.16</td>\n",
              "    </tr>\n",
              "    <tr>\n",
              "      <th>1</th>\n",
              "      <td>C</td>\n",
              "      <td>-36.180</td>\n",
              "      <td>88.30</td>\n",
              "      <td>10</td>\n",
              "      <td>0.0070</td>\n",
              "      <td>0.000000</td>\n",
              "      <td>415.45</td>\n",
              "      <td>34.16</td>\n",
              "    </tr>\n",
              "    <tr>\n",
              "      <th>2</th>\n",
              "      <td>C</td>\n",
              "      <td>-36.180</td>\n",
              "      <td>89.20</td>\n",
              "      <td>39</td>\n",
              "      <td>0.0070</td>\n",
              "      <td>0.000000</td>\n",
              "      <td>415.45</td>\n",
              "      <td>34.16</td>\n",
              "    </tr>\n",
              "    <tr>\n",
              "      <th>3</th>\n",
              "      <td>C</td>\n",
              "      <td>-30.180</td>\n",
              "      <td>80.55</td>\n",
              "      <td>130</td>\n",
              "      <td>0.0070</td>\n",
              "      <td>0.606411</td>\n",
              "      <td>415.45</td>\n",
              "      <td>34.16</td>\n",
              "    </tr>\n",
              "    <tr>\n",
              "      <th>4</th>\n",
              "      <td>C</td>\n",
              "      <td>-26.180</td>\n",
              "      <td>52.00</td>\n",
              "      <td>10</td>\n",
              "      <td>0.0070</td>\n",
              "      <td>0.000000</td>\n",
              "      <td>415.45</td>\n",
              "      <td>34.16</td>\n",
              "    </tr>\n",
              "    <tr>\n",
              "      <th>...</th>\n",
              "      <td>...</td>\n",
              "      <td>...</td>\n",
              "      <td>...</td>\n",
              "      <td>...</td>\n",
              "      <td>...</td>\n",
              "      <td>...</td>\n",
              "      <td>...</td>\n",
              "      <td>...</td>\n",
              "    </tr>\n",
              "    <tr>\n",
              "      <th>167844</th>\n",
              "      <td>P</td>\n",
              "      <td>-0.976</td>\n",
              "      <td>0.70</td>\n",
              "      <td>4</td>\n",
              "      <td>0.0153</td>\n",
              "      <td>0.000000</td>\n",
              "      <td>277.44</td>\n",
              "      <td>13.96</td>\n",
              "    </tr>\n",
              "    <tr>\n",
              "      <th>167845</th>\n",
              "      <td>P</td>\n",
              "      <td>0.024</td>\n",
              "      <td>1.56</td>\n",
              "      <td>4</td>\n",
              "      <td>0.0153</td>\n",
              "      <td>0.000000</td>\n",
              "      <td>277.44</td>\n",
              "      <td>13.96</td>\n",
              "    </tr>\n",
              "    <tr>\n",
              "      <th>167846</th>\n",
              "      <td>P</td>\n",
              "      <td>1.024</td>\n",
              "      <td>2.99</td>\n",
              "      <td>4</td>\n",
              "      <td>0.0153</td>\n",
              "      <td>0.000000</td>\n",
              "      <td>277.44</td>\n",
              "      <td>13.96</td>\n",
              "    </tr>\n",
              "    <tr>\n",
              "      <th>167847</th>\n",
              "      <td>P</td>\n",
              "      <td>2.024</td>\n",
              "      <td>5.25</td>\n",
              "      <td>4</td>\n",
              "      <td>0.0153</td>\n",
              "      <td>0.000000</td>\n",
              "      <td>277.44</td>\n",
              "      <td>13.96</td>\n",
              "    </tr>\n",
              "    <tr>\n",
              "      <th>167848</th>\n",
              "      <td>P</td>\n",
              "      <td>3.024</td>\n",
              "      <td>7.10</td>\n",
              "      <td>4</td>\n",
              "      <td>0.0153</td>\n",
              "      <td>0.000000</td>\n",
              "      <td>277.44</td>\n",
              "      <td>13.96</td>\n",
              "    </tr>\n",
              "  </tbody>\n",
              "</table>\n",
              "<p>167849 rows × 8 columns</p>\n",
              "</div>"
            ],
            "text/plain": [
              "       CallPut  ScaledStrikePrice  ...  UnderlyingIndex  VKOSPI\n",
              "0            C            -39.180  ...           415.45   34.16\n",
              "1            C            -36.180  ...           415.45   34.16\n",
              "2            C            -36.180  ...           415.45   34.16\n",
              "3            C            -30.180  ...           415.45   34.16\n",
              "4            C            -26.180  ...           415.45   34.16\n",
              "...        ...                ...  ...              ...     ...\n",
              "167844       P             -0.976  ...           277.44   13.96\n",
              "167845       P              0.024  ...           277.44   13.96\n",
              "167846       P              1.024  ...           277.44   13.96\n",
              "167847       P              2.024  ...           277.44   13.96\n",
              "167848       P              3.024  ...           277.44   13.96\n",
              "\n",
              "[167849 rows x 8 columns]"
            ]
          },
          "metadata": {},
          "execution_count": 31
        }
      ]
    },
    {
      "cell_type": "code",
      "metadata": {
        "colab": {
          "base_uri": "https://localhost:8080/",
          "height": 423
        },
        "id": "LX9TH3af8o89",
        "outputId": "7c52554a-dc67-4da7-e33c-2286cf41a84b"
      },
      "source": [
        "# categorical data(CallPut) one-hot-encoding 하기\n",
        "X_features_ohe = pd.get_dummies(X, columns = ['CallPut'])\n",
        "X_features_ohe"
      ],
      "execution_count": 5,
      "outputs": [
        {
          "output_type": "execute_result",
          "data": {
            "text/html": [
              "<div>\n",
              "<style scoped>\n",
              "    .dataframe tbody tr th:only-of-type {\n",
              "        vertical-align: middle;\n",
              "    }\n",
              "\n",
              "    .dataframe tbody tr th {\n",
              "        vertical-align: top;\n",
              "    }\n",
              "\n",
              "    .dataframe thead th {\n",
              "        text-align: right;\n",
              "    }\n",
              "</style>\n",
              "<table border=\"1\" class=\"dataframe\">\n",
              "  <thead>\n",
              "    <tr style=\"text-align: right;\">\n",
              "      <th></th>\n",
              "      <th>ScaledStrikePrice</th>\n",
              "      <th>LastPrice</th>\n",
              "      <th>RemainingDays</th>\n",
              "      <th>RiskFreeRate</th>\n",
              "      <th>OptionDividendRate</th>\n",
              "      <th>UnderlyingIndex</th>\n",
              "      <th>VKOSPI</th>\n",
              "      <th>CallPut_C</th>\n",
              "      <th>CallPut_P</th>\n",
              "    </tr>\n",
              "  </thead>\n",
              "  <tbody>\n",
              "    <tr>\n",
              "      <th>0</th>\n",
              "      <td>-39.180</td>\n",
              "      <td>95.00</td>\n",
              "      <td>10</td>\n",
              "      <td>0.0070</td>\n",
              "      <td>0.000000</td>\n",
              "      <td>415.45</td>\n",
              "      <td>34.16</td>\n",
              "      <td>1</td>\n",
              "      <td>0</td>\n",
              "    </tr>\n",
              "    <tr>\n",
              "      <th>1</th>\n",
              "      <td>-36.180</td>\n",
              "      <td>88.30</td>\n",
              "      <td>10</td>\n",
              "      <td>0.0070</td>\n",
              "      <td>0.000000</td>\n",
              "      <td>415.45</td>\n",
              "      <td>34.16</td>\n",
              "      <td>1</td>\n",
              "      <td>0</td>\n",
              "    </tr>\n",
              "    <tr>\n",
              "      <th>2</th>\n",
              "      <td>-36.180</td>\n",
              "      <td>89.20</td>\n",
              "      <td>39</td>\n",
              "      <td>0.0070</td>\n",
              "      <td>0.000000</td>\n",
              "      <td>415.45</td>\n",
              "      <td>34.16</td>\n",
              "      <td>1</td>\n",
              "      <td>0</td>\n",
              "    </tr>\n",
              "    <tr>\n",
              "      <th>3</th>\n",
              "      <td>-30.180</td>\n",
              "      <td>80.55</td>\n",
              "      <td>130</td>\n",
              "      <td>0.0070</td>\n",
              "      <td>0.606411</td>\n",
              "      <td>415.45</td>\n",
              "      <td>34.16</td>\n",
              "      <td>1</td>\n",
              "      <td>0</td>\n",
              "    </tr>\n",
              "    <tr>\n",
              "      <th>4</th>\n",
              "      <td>-26.180</td>\n",
              "      <td>52.00</td>\n",
              "      <td>10</td>\n",
              "      <td>0.0070</td>\n",
              "      <td>0.000000</td>\n",
              "      <td>415.45</td>\n",
              "      <td>34.16</td>\n",
              "      <td>1</td>\n",
              "      <td>0</td>\n",
              "    </tr>\n",
              "    <tr>\n",
              "      <th>...</th>\n",
              "      <td>...</td>\n",
              "      <td>...</td>\n",
              "      <td>...</td>\n",
              "      <td>...</td>\n",
              "      <td>...</td>\n",
              "      <td>...</td>\n",
              "      <td>...</td>\n",
              "      <td>...</td>\n",
              "      <td>...</td>\n",
              "    </tr>\n",
              "    <tr>\n",
              "      <th>167844</th>\n",
              "      <td>-0.976</td>\n",
              "      <td>0.70</td>\n",
              "      <td>4</td>\n",
              "      <td>0.0153</td>\n",
              "      <td>0.000000</td>\n",
              "      <td>277.44</td>\n",
              "      <td>13.96</td>\n",
              "      <td>0</td>\n",
              "      <td>1</td>\n",
              "    </tr>\n",
              "    <tr>\n",
              "      <th>167845</th>\n",
              "      <td>0.024</td>\n",
              "      <td>1.56</td>\n",
              "      <td>4</td>\n",
              "      <td>0.0153</td>\n",
              "      <td>0.000000</td>\n",
              "      <td>277.44</td>\n",
              "      <td>13.96</td>\n",
              "      <td>0</td>\n",
              "      <td>1</td>\n",
              "    </tr>\n",
              "    <tr>\n",
              "      <th>167846</th>\n",
              "      <td>1.024</td>\n",
              "      <td>2.99</td>\n",
              "      <td>4</td>\n",
              "      <td>0.0153</td>\n",
              "      <td>0.000000</td>\n",
              "      <td>277.44</td>\n",
              "      <td>13.96</td>\n",
              "      <td>0</td>\n",
              "      <td>1</td>\n",
              "    </tr>\n",
              "    <tr>\n",
              "      <th>167847</th>\n",
              "      <td>2.024</td>\n",
              "      <td>5.25</td>\n",
              "      <td>4</td>\n",
              "      <td>0.0153</td>\n",
              "      <td>0.000000</td>\n",
              "      <td>277.44</td>\n",
              "      <td>13.96</td>\n",
              "      <td>0</td>\n",
              "      <td>1</td>\n",
              "    </tr>\n",
              "    <tr>\n",
              "      <th>167848</th>\n",
              "      <td>3.024</td>\n",
              "      <td>7.10</td>\n",
              "      <td>4</td>\n",
              "      <td>0.0153</td>\n",
              "      <td>0.000000</td>\n",
              "      <td>277.44</td>\n",
              "      <td>13.96</td>\n",
              "      <td>0</td>\n",
              "      <td>1</td>\n",
              "    </tr>\n",
              "  </tbody>\n",
              "</table>\n",
              "<p>167849 rows × 9 columns</p>\n",
              "</div>"
            ],
            "text/plain": [
              "        ScaledStrikePrice  LastPrice  ...  CallPut_C  CallPut_P\n",
              "0                 -39.180      95.00  ...          1          0\n",
              "1                 -36.180      88.30  ...          1          0\n",
              "2                 -36.180      89.20  ...          1          0\n",
              "3                 -30.180      80.55  ...          1          0\n",
              "4                 -26.180      52.00  ...          1          0\n",
              "...                   ...        ...  ...        ...        ...\n",
              "167844             -0.976       0.70  ...          0          1\n",
              "167845              0.024       1.56  ...          0          1\n",
              "167846              1.024       2.99  ...          0          1\n",
              "167847              2.024       5.25  ...          0          1\n",
              "167848              3.024       7.10  ...          0          1\n",
              "\n",
              "[167849 rows x 9 columns]"
            ]
          },
          "metadata": {},
          "execution_count": 5
        }
      ]
    },
    {
      "cell_type": "code",
      "metadata": {
        "colab": {
          "base_uri": "https://localhost:8080/",
          "height": 462
        },
        "id": "WhlNBBfRJZdm",
        "outputId": "803fe184-27ba-4c6f-b26c-2e1f9f306588"
      },
      "source": [
        "!pip install mglearn\n",
        "\n",
        "import mglearn\n",
        "\n",
        "features =pd.DataFrame(X_features_ohe, columns=X_features_ohe.columns)\n",
        "pd.plotting.scatter_matrix(features, figsize=(15,15),marker='o',hist_kwds={'bins':20},s=60,alpha=.8,cmap=mglearn.cm3)"
      ],
      "execution_count": null,
      "outputs": [
        {
          "output_type": "stream",
          "name": "stdout",
          "text": [
            "Collecting mglearn\n",
            "  Downloading mglearn-0.1.9.tar.gz (540 kB)\n",
            "\u001b[?25l\r\u001b[K     |▋                               | 10 kB 21.7 MB/s eta 0:00:01\r\u001b[K     |█▏                              | 20 kB 25.8 MB/s eta 0:00:01\r\u001b[K     |█▉                              | 30 kB 18.3 MB/s eta 0:00:01\r\u001b[K     |██▍                             | 40 kB 15.6 MB/s eta 0:00:01\r\u001b[K     |███                             | 51 kB 6.8 MB/s eta 0:00:01\r\u001b[K     |███▋                            | 61 kB 7.3 MB/s eta 0:00:01\r\u001b[K     |████▎                           | 71 kB 7.5 MB/s eta 0:00:01\r\u001b[K     |████▉                           | 81 kB 8.4 MB/s eta 0:00:01\r\u001b[K     |█████▌                          | 92 kB 8.7 MB/s eta 0:00:01\r\u001b[K     |██████                          | 102 kB 6.6 MB/s eta 0:00:01\r\u001b[K     |██████▊                         | 112 kB 6.6 MB/s eta 0:00:01\r\u001b[K     |███████▎                        | 122 kB 6.6 MB/s eta 0:00:01\r\u001b[K     |███████▉                        | 133 kB 6.6 MB/s eta 0:00:01\r\u001b[K     |████████▌                       | 143 kB 6.6 MB/s eta 0:00:01\r\u001b[K     |█████████                       | 153 kB 6.6 MB/s eta 0:00:01\r\u001b[K     |█████████▊                      | 163 kB 6.6 MB/s eta 0:00:01\r\u001b[K     |██████████▎                     | 174 kB 6.6 MB/s eta 0:00:01\r\u001b[K     |███████████                     | 184 kB 6.6 MB/s eta 0:00:01\r\u001b[K     |███████████▌                    | 194 kB 6.6 MB/s eta 0:00:01\r\u001b[K     |████████████▏                   | 204 kB 6.6 MB/s eta 0:00:01\r\u001b[K     |████████████▊                   | 215 kB 6.6 MB/s eta 0:00:01\r\u001b[K     |█████████████▍                  | 225 kB 6.6 MB/s eta 0:00:01\r\u001b[K     |██████████████                  | 235 kB 6.6 MB/s eta 0:00:01\r\u001b[K     |██████████████▋                 | 245 kB 6.6 MB/s eta 0:00:01\r\u001b[K     |███████████████▏                | 256 kB 6.6 MB/s eta 0:00:01\r\u001b[K     |███████████████▊                | 266 kB 6.6 MB/s eta 0:00:01\r\u001b[K     |████████████████▍               | 276 kB 6.6 MB/s eta 0:00:01\r\u001b[K     |█████████████████               | 286 kB 6.6 MB/s eta 0:00:01\r\u001b[K     |█████████████████▋              | 296 kB 6.6 MB/s eta 0:00:01\r\u001b[K     |██████████████████▏             | 307 kB 6.6 MB/s eta 0:00:01\r\u001b[K     |██████████████████▉             | 317 kB 6.6 MB/s eta 0:00:01\r\u001b[K     |███████████████████▍            | 327 kB 6.6 MB/s eta 0:00:01\r\u001b[K     |████████████████████            | 337 kB 6.6 MB/s eta 0:00:01\r\u001b[K     |████████████████████▋           | 348 kB 6.6 MB/s eta 0:00:01\r\u001b[K     |█████████████████████▎          | 358 kB 6.6 MB/s eta 0:00:01\r\u001b[K     |█████████████████████▉          | 368 kB 6.6 MB/s eta 0:00:01\r\u001b[K     |██████████████████████▌         | 378 kB 6.6 MB/s eta 0:00:01\r\u001b[K     |███████████████████████         | 389 kB 6.6 MB/s eta 0:00:01\r\u001b[K     |███████████████████████▋        | 399 kB 6.6 MB/s eta 0:00:01\r\u001b[K     |████████████████████████▎       | 409 kB 6.6 MB/s eta 0:00:01\r\u001b[K     |████████████████████████▉       | 419 kB 6.6 MB/s eta 0:00:01\r\u001b[K     |█████████████████████████▌      | 430 kB 6.6 MB/s eta 0:00:01\r\u001b[K     |██████████████████████████      | 440 kB 6.6 MB/s eta 0:00:01\r\u001b[K     |██████████████████████████▊     | 450 kB 6.6 MB/s eta 0:00:01\r\u001b[K     |███████████████████████████▎    | 460 kB 6.6 MB/s eta 0:00:01\r\u001b[K     |████████████████████████████    | 471 kB 6.6 MB/s eta 0:00:01\r\u001b[K     |████████████████████████████▌   | 481 kB 6.6 MB/s eta 0:00:01\r\u001b[K     |█████████████████████████████▏  | 491 kB 6.6 MB/s eta 0:00:01\r\u001b[K     |█████████████████████████████▊  | 501 kB 6.6 MB/s eta 0:00:01\r\u001b[K     |██████████████████████████████▍ | 512 kB 6.6 MB/s eta 0:00:01\r\u001b[K     |███████████████████████████████ | 522 kB 6.6 MB/s eta 0:00:01\r\u001b[K     |███████████████████████████████▌| 532 kB 6.6 MB/s eta 0:00:01\r\u001b[K     |████████████████████████████████| 540 kB 6.6 MB/s \n",
            "\u001b[31mERROR: Operation cancelled by user\u001b[0m\n",
            "\u001b[?25h"
          ]
        },
        {
          "output_type": "error",
          "ename": "ModuleNotFoundError",
          "evalue": "ignored",
          "traceback": [
            "\u001b[0;31m---------------------------------------------------------------------------\u001b[0m",
            "\u001b[0;31mModuleNotFoundError\u001b[0m                       Traceback (most recent call last)",
            "\u001b[0;32m<ipython-input-11-842a850df491>\u001b[0m in \u001b[0;36m<module>\u001b[0;34m()\u001b[0m\n\u001b[1;32m      1\u001b[0m \u001b[0mget_ipython\u001b[0m\u001b[0;34m(\u001b[0m\u001b[0;34m)\u001b[0m\u001b[0;34m.\u001b[0m\u001b[0msystem\u001b[0m\u001b[0;34m(\u001b[0m\u001b[0;34m'pip install mglearn'\u001b[0m\u001b[0;34m)\u001b[0m\u001b[0;34m\u001b[0m\u001b[0;34m\u001b[0m\u001b[0m\n\u001b[1;32m      2\u001b[0m \u001b[0;34m\u001b[0m\u001b[0m\n\u001b[0;32m----> 3\u001b[0;31m \u001b[0;32mimport\u001b[0m \u001b[0mmglearn\u001b[0m\u001b[0;34m\u001b[0m\u001b[0;34m\u001b[0m\u001b[0m\n\u001b[0m\u001b[1;32m      4\u001b[0m \u001b[0;34m\u001b[0m\u001b[0m\n\u001b[1;32m      5\u001b[0m \u001b[0mfeatures\u001b[0m \u001b[0;34m=\u001b[0m\u001b[0mpd\u001b[0m\u001b[0;34m.\u001b[0m\u001b[0mDataFrame\u001b[0m\u001b[0;34m(\u001b[0m\u001b[0mX_features_ohe\u001b[0m\u001b[0;34m,\u001b[0m \u001b[0mcolumns\u001b[0m\u001b[0;34m=\u001b[0m\u001b[0mX_features_ohe\u001b[0m\u001b[0;34m.\u001b[0m\u001b[0mcolumns\u001b[0m\u001b[0;34m)\u001b[0m\u001b[0;34m\u001b[0m\u001b[0;34m\u001b[0m\u001b[0m\n",
            "\u001b[0;31mModuleNotFoundError\u001b[0m: No module named 'mglearn'",
            "",
            "\u001b[0;31m---------------------------------------------------------------------------\u001b[0;32m\nNOTE: If your import is failing due to a missing package, you can\nmanually install dependencies using either !pip or !apt.\n\nTo view examples of installing some common dependencies, click the\n\"Open Examples\" button below.\n\u001b[0;31m---------------------------------------------------------------------------\u001b[0m\n"
          ],
          "errorDetails": {
            "actions": [
              {
                "action": "open_url",
                "actionText": "Open Examples",
                "url": "/notebooks/snippets/importing_libraries.ipynb"
              }
            ]
          }
        }
      ]
    },
    {
      "cell_type": "code",
      "metadata": {
        "id": "HIJYL3qlitmj"
      },
      "source": [
        "# train, test set 분리\n",
        "\n",
        "from sklearn.model_selection import train_test_split\n",
        "\n",
        "X_train, X_test, y_train, y_test =  train_test_split(X_features_ohe, y, test_size=0.3, random_state=5)"
      ],
      "execution_count": 6,
      "outputs": []
    },
    {
      "cell_type": "code",
      "metadata": {
        "colab": {
          "base_uri": "https://localhost:8080/"
        },
        "id": "U8sghmiZi9-1",
        "outputId": "3f7609c8-f610-428c-b536-fa05918ef35c"
      },
      "source": [
        "# 차원 확인\n",
        "\n",
        "X_train.shape, X_test.shape, y_train.shape, y_test.shape"
      ],
      "execution_count": 7,
      "outputs": [
        {
          "output_type": "execute_result",
          "data": {
            "text/plain": [
              "((117494, 9), (50355, 9), (117494,), (50355,))"
            ]
          },
          "metadata": {},
          "execution_count": 7
        }
      ]
    },
    {
      "cell_type": "code",
      "metadata": {
        "id": "ia2owhV6jD4e"
      },
      "source": [
        "# 정규화\n",
        "\n",
        "from sklearn.preprocessing import StandardScaler\n",
        "\n",
        "ss = StandardScaler()\n",
        "ss.fit(X_train)\n",
        "\n",
        "train_scaled = ss.transform(X_train)\n",
        "test_scaled = ss.transform(X_test)"
      ],
      "execution_count": 8,
      "outputs": []
    },
    {
      "cell_type": "markdown",
      "metadata": {
        "id": "Vyaveou5_ozv"
      },
      "source": [
        "# *Linear Regression 계열"
      ]
    },
    {
      "cell_type": "code",
      "metadata": {
        "colab": {
          "base_uri": "https://localhost:8080/"
        },
        "id": "HPGpWoQM_oOP",
        "outputId": "c0f8b771-9d44-4db5-c94f-7d0597815614"
      },
      "source": [
        "# 1번 Linear Regression 모델\n",
        "\n",
        "from sklearn.linear_model import LinearRegression\n",
        "lr =LinearRegression()\n",
        "lr.fit(train_scaled, y_train)\n",
        "pred = lr.predict(test_scaled)\n",
        "\n",
        "print('Training accuracy : {:.3f}'.format(lr.score(train_scaled,y_train)))\n",
        "print('Test accuracy : {:.3f}'.format(lr.score(test_scaled, y_test)))\n"
      ],
      "execution_count": null,
      "outputs": [
        {
          "output_type": "stream",
          "name": "stdout",
          "text": [
            "Training accuracy : 0.412\n",
            "Test accuracy : 0.410\n"
          ]
        }
      ]
    },
    {
      "cell_type": "code",
      "metadata": {
        "colab": {
          "base_uri": "https://localhost:8080/",
          "height": 112
        },
        "id": "GBjnmPHGHEqD",
        "outputId": "2e28ed34-2f1f-4123-9ad9-dcd51378ccd5"
      },
      "source": [
        "lr_acc =[lr.score(train_scaled, y_train), lr.score(test_scaled, y_test)]\n",
        "acc = pd.DataFrame(lr_acc)\n",
        "acc.columns = ['lr_acc']\n",
        "acc"
      ],
      "execution_count": null,
      "outputs": [
        {
          "output_type": "execute_result",
          "data": {
            "text/html": [
              "<div>\n",
              "<style scoped>\n",
              "    .dataframe tbody tr th:only-of-type {\n",
              "        vertical-align: middle;\n",
              "    }\n",
              "\n",
              "    .dataframe tbody tr th {\n",
              "        vertical-align: top;\n",
              "    }\n",
              "\n",
              "    .dataframe thead th {\n",
              "        text-align: right;\n",
              "    }\n",
              "</style>\n",
              "<table border=\"1\" class=\"dataframe\">\n",
              "  <thead>\n",
              "    <tr style=\"text-align: right;\">\n",
              "      <th></th>\n",
              "      <th>lr_acc</th>\n",
              "    </tr>\n",
              "  </thead>\n",
              "  <tbody>\n",
              "    <tr>\n",
              "      <th>0</th>\n",
              "      <td>0.412282</td>\n",
              "    </tr>\n",
              "    <tr>\n",
              "      <th>1</th>\n",
              "      <td>0.409878</td>\n",
              "    </tr>\n",
              "  </tbody>\n",
              "</table>\n",
              "</div>"
            ],
            "text/plain": [
              "     lr_acc\n",
              "0  0.412282\n",
              "1  0.409878"
            ]
          },
          "metadata": {},
          "execution_count": 37
        }
      ]
    },
    {
      "cell_type": "code",
      "metadata": {
        "colab": {
          "base_uri": "https://localhost:8080/"
        },
        "id": "JDwzNN6HBxki",
        "outputId": "526cc2e6-c374-4658-e8fc-3093a619865e"
      },
      "source": [
        "\n",
        "# 2번 Ridge 모델\n",
        "\n",
        "from sklearn.linear_model import Ridge\n",
        "\n",
        "ridge = Ridge(alpha = 10)\n",
        "ridge.fit(train_scaled, y_train)\n",
        "\n",
        "print('Training accuracy : {:.3f}'.format(ridge.score(train_scaled,y_train)))\n",
        "print('Test accuracy : {:.3f}'.format(ridge.score(test_scaled, y_test)))"
      ],
      "execution_count": null,
      "outputs": [
        {
          "output_type": "stream",
          "name": "stdout",
          "text": [
            "Training accuracy : 0.412\n",
            "Test accuracy : 0.410\n"
          ]
        }
      ]
    },
    {
      "cell_type": "code",
      "metadata": {
        "colab": {
          "base_uri": "https://localhost:8080/",
          "height": 112
        },
        "id": "tg9nxO5mI9QW",
        "outputId": "2f06d954-7a1e-4cbf-a7b9-755618d595fd"
      },
      "source": [
        "lr_ridge = [ridge.score(train_scaled,y_train),ridge.score(test_scaled, y_test)]\n",
        "acc['lr_ridge'] = lr_ridge\n",
        "acc"
      ],
      "execution_count": null,
      "outputs": [
        {
          "output_type": "execute_result",
          "data": {
            "text/html": [
              "<div>\n",
              "<style scoped>\n",
              "    .dataframe tbody tr th:only-of-type {\n",
              "        vertical-align: middle;\n",
              "    }\n",
              "\n",
              "    .dataframe tbody tr th {\n",
              "        vertical-align: top;\n",
              "    }\n",
              "\n",
              "    .dataframe thead th {\n",
              "        text-align: right;\n",
              "    }\n",
              "</style>\n",
              "<table border=\"1\" class=\"dataframe\">\n",
              "  <thead>\n",
              "    <tr style=\"text-align: right;\">\n",
              "      <th></th>\n",
              "      <th>lr_acc</th>\n",
              "      <th>lr_ridge</th>\n",
              "    </tr>\n",
              "  </thead>\n",
              "  <tbody>\n",
              "    <tr>\n",
              "      <th>0</th>\n",
              "      <td>0.412282</td>\n",
              "      <td>0.412282</td>\n",
              "    </tr>\n",
              "    <tr>\n",
              "      <th>1</th>\n",
              "      <td>0.409878</td>\n",
              "      <td>0.409877</td>\n",
              "    </tr>\n",
              "  </tbody>\n",
              "</table>\n",
              "</div>"
            ],
            "text/plain": [
              "     lr_acc  lr_ridge\n",
              "0  0.412282  0.412282\n",
              "1  0.409878  0.409877"
            ]
          },
          "metadata": {},
          "execution_count": 39
        }
      ]
    },
    {
      "cell_type": "code",
      "metadata": {
        "colab": {
          "base_uri": "https://localhost:8080/"
        },
        "id": "K7BpujfJFADz",
        "outputId": "ea0afa77-521b-43b2-8176-1a239e5ee6a7"
      },
      "source": [
        "# 3번 Lasso 모델\n",
        "from sklearn.linear_model import Lasso\n",
        "\n",
        "lasso = Lasso(alpha = 0.01)\n",
        "lasso.fit(train_scaled, y_train)\n",
        "\n",
        "print('Training accuracy : {:.3f}'.format(lasso.score(train_scaled,y_train)))\n",
        "print('Test accuracy : {:.3f}'.format(lasso.score(test_scaled, y_test)))"
      ],
      "execution_count": null,
      "outputs": [
        {
          "output_type": "stream",
          "name": "stdout",
          "text": [
            "Training accuracy : 0.399\n",
            "Test accuracy : 0.395\n"
          ]
        }
      ]
    },
    {
      "cell_type": "code",
      "metadata": {
        "colab": {
          "base_uri": "https://localhost:8080/",
          "height": 112
        },
        "id": "bgSTA7j9JLPX",
        "outputId": "8dc0f7f6-58f9-428c-f9d9-d89b63350772"
      },
      "source": [
        "lr_lasso = [lasso.score(train_scaled,y_train),lasso.score(test_scaled, y_test) ]\n",
        "acc['lr_lasso']= lr_lasso\n",
        "acc"
      ],
      "execution_count": null,
      "outputs": [
        {
          "output_type": "execute_result",
          "data": {
            "text/html": [
              "<div>\n",
              "<style scoped>\n",
              "    .dataframe tbody tr th:only-of-type {\n",
              "        vertical-align: middle;\n",
              "    }\n",
              "\n",
              "    .dataframe tbody tr th {\n",
              "        vertical-align: top;\n",
              "    }\n",
              "\n",
              "    .dataframe thead th {\n",
              "        text-align: right;\n",
              "    }\n",
              "</style>\n",
              "<table border=\"1\" class=\"dataframe\">\n",
              "  <thead>\n",
              "    <tr style=\"text-align: right;\">\n",
              "      <th></th>\n",
              "      <th>lr_acc</th>\n",
              "      <th>lr_ridge</th>\n",
              "      <th>lr_lasso</th>\n",
              "    </tr>\n",
              "  </thead>\n",
              "  <tbody>\n",
              "    <tr>\n",
              "      <th>0</th>\n",
              "      <td>0.412282</td>\n",
              "      <td>0.412282</td>\n",
              "      <td>0.398682</td>\n",
              "    </tr>\n",
              "    <tr>\n",
              "      <th>1</th>\n",
              "      <td>0.409878</td>\n",
              "      <td>0.409877</td>\n",
              "      <td>0.395246</td>\n",
              "    </tr>\n",
              "  </tbody>\n",
              "</table>\n",
              "</div>"
            ],
            "text/plain": [
              "     lr_acc  lr_ridge  lr_lasso\n",
              "0  0.412282  0.412282  0.398682\n",
              "1  0.409878  0.409877  0.395246"
            ]
          },
          "metadata": {},
          "execution_count": 41
        }
      ]
    },
    {
      "cell_type": "markdown",
      "metadata": {
        "id": "DaionHkY_hf2"
      },
      "source": [
        "# * Tree 계열"
      ]
    },
    {
      "cell_type": "code",
      "metadata": {
        "colab": {
          "base_uri": "https://localhost:8080/"
        },
        "id": "r6K4aww1jqr6",
        "outputId": "9eb538bc-c595-4590-a474-4c6bcaffadf0"
      },
      "source": [
        "# 1번 모델 Decision Tree(Single Model)\n",
        "\n",
        "from sklearn.tree import DecisionTreeRegressor\n",
        "\n",
        "dt = DecisionTreeRegressor(random_state=5)\n",
        "dt.fit(train_scaled, y_train)\n",
        "\n",
        "print(dt.score(train_scaled, y_train))\n",
        "print(dt.score(test_scaled, y_test))"
      ],
      "execution_count": null,
      "outputs": [
        {
          "output_type": "stream",
          "name": "stdout",
          "text": [
            "1.0\n",
            "0.9559698676609052\n"
          ]
        }
      ]
    },
    {
      "cell_type": "code",
      "metadata": {
        "colab": {
          "base_uri": "https://localhost:8080/",
          "height": 112
        },
        "id": "I3C6uNhzJazD",
        "outputId": "a2f19ce5-3880-4784-9b33-d7c550852ce6"
      },
      "source": [
        "dtr = [dt.score(train_scaled, y_train),dt.score(test_scaled, y_test)]\n",
        "acc['dtr'] = dtr\n",
        "acc\n"
      ],
      "execution_count": null,
      "outputs": [
        {
          "output_type": "execute_result",
          "data": {
            "text/html": [
              "<div>\n",
              "<style scoped>\n",
              "    .dataframe tbody tr th:only-of-type {\n",
              "        vertical-align: middle;\n",
              "    }\n",
              "\n",
              "    .dataframe tbody tr th {\n",
              "        vertical-align: top;\n",
              "    }\n",
              "\n",
              "    .dataframe thead th {\n",
              "        text-align: right;\n",
              "    }\n",
              "</style>\n",
              "<table border=\"1\" class=\"dataframe\">\n",
              "  <thead>\n",
              "    <tr style=\"text-align: right;\">\n",
              "      <th></th>\n",
              "      <th>lr_acc</th>\n",
              "      <th>lr_ridge</th>\n",
              "      <th>lr_lasso</th>\n",
              "      <th>dtr</th>\n",
              "    </tr>\n",
              "  </thead>\n",
              "  <tbody>\n",
              "    <tr>\n",
              "      <th>0</th>\n",
              "      <td>0.412282</td>\n",
              "      <td>0.412282</td>\n",
              "      <td>0.398682</td>\n",
              "      <td>1.00000</td>\n",
              "    </tr>\n",
              "    <tr>\n",
              "      <th>1</th>\n",
              "      <td>0.409878</td>\n",
              "      <td>0.409877</td>\n",
              "      <td>0.395246</td>\n",
              "      <td>0.95597</td>\n",
              "    </tr>\n",
              "  </tbody>\n",
              "</table>\n",
              "</div>"
            ],
            "text/plain": [
              "     lr_acc  lr_ridge  lr_lasso      dtr\n",
              "0  0.412282  0.412282  0.398682  1.00000\n",
              "1  0.409878  0.409877  0.395246  0.95597"
            ]
          },
          "metadata": {},
          "execution_count": 44
        }
      ]
    },
    {
      "cell_type": "code",
      "metadata": {
        "colab": {
          "base_uri": "https://localhost:8080/"
        },
        "id": "TwHijUyNkjUT",
        "outputId": "f93cd14a-6836-43a0-cf51-fc01b33d6fb6"
      },
      "source": [
        "# 2번 모델 RandomForestRegressor\n",
        "\n",
        "from sklearn.ensemble import RandomForestRegressor\n",
        "\n",
        "\n",
        "forest = RandomForestRegressor(n_estimators = 100,n_jobs = -1,oob_score = True, random_state = 5)\n",
        "forest.fit(train_scaled, y_train)"
      ],
      "execution_count": null,
      "outputs": [
        {
          "output_type": "execute_result",
          "data": {
            "text/plain": [
              "RandomForestRegressor(n_jobs=-1, oob_score=True, random_state=5)"
            ]
          },
          "metadata": {},
          "execution_count": 45
        }
      ]
    },
    {
      "cell_type": "code",
      "metadata": {
        "colab": {
          "base_uri": "https://localhost:8080/"
        },
        "id": "DoV-5IF7mvGD",
        "outputId": "d5151ada-543b-4f65-ef63-f4b9b8fde833"
      },
      "source": [
        "# RandomForest 성능\n",
        "\n",
        "print('Training accuracy : {:.3f}'.format(forest.score(train_scaled,y_train)))\n",
        "print('Test accuracy : {:.3f}'.format(forest.score(test_scaled, y_test)))"
      ],
      "execution_count": null,
      "outputs": [
        {
          "output_type": "stream",
          "name": "stdout",
          "text": [
            "Training accuracy : 0.994\n",
            "Test accuracy : 0.969\n"
          ]
        }
      ]
    },
    {
      "cell_type": "code",
      "metadata": {
        "colab": {
          "base_uri": "https://localhost:8080/",
          "height": 112
        },
        "id": "AEnMezrmafiv",
        "outputId": "a351323f-0e8f-448f-ef46-8a6a87bd8f3e"
      },
      "source": [
        "rf = [forest.score(train_scaled,y_train),forest.score(test_scaled, y_test)]\n",
        "acc['rf'] = rf\n",
        "acc"
      ],
      "execution_count": null,
      "outputs": [
        {
          "output_type": "execute_result",
          "data": {
            "text/html": [
              "<div>\n",
              "<style scoped>\n",
              "    .dataframe tbody tr th:only-of-type {\n",
              "        vertical-align: middle;\n",
              "    }\n",
              "\n",
              "    .dataframe tbody tr th {\n",
              "        vertical-align: top;\n",
              "    }\n",
              "\n",
              "    .dataframe thead th {\n",
              "        text-align: right;\n",
              "    }\n",
              "</style>\n",
              "<table border=\"1\" class=\"dataframe\">\n",
              "  <thead>\n",
              "    <tr style=\"text-align: right;\">\n",
              "      <th></th>\n",
              "      <th>lr_acc</th>\n",
              "      <th>lr_ridge</th>\n",
              "      <th>lr_lasso</th>\n",
              "      <th>dtr</th>\n",
              "      <th>rf</th>\n",
              "    </tr>\n",
              "  </thead>\n",
              "  <tbody>\n",
              "    <tr>\n",
              "      <th>0</th>\n",
              "      <td>0.412282</td>\n",
              "      <td>0.412282</td>\n",
              "      <td>0.398682</td>\n",
              "      <td>1.00000</td>\n",
              "      <td>0.994496</td>\n",
              "    </tr>\n",
              "    <tr>\n",
              "      <th>1</th>\n",
              "      <td>0.409878</td>\n",
              "      <td>0.409877</td>\n",
              "      <td>0.395246</td>\n",
              "      <td>0.95597</td>\n",
              "      <td>0.969067</td>\n",
              "    </tr>\n",
              "  </tbody>\n",
              "</table>\n",
              "</div>"
            ],
            "text/plain": [
              "     lr_acc  lr_ridge  lr_lasso      dtr        rf\n",
              "0  0.412282  0.412282  0.398682  1.00000  0.994496\n",
              "1  0.409878  0.409877  0.395246  0.95597  0.969067"
            ]
          },
          "metadata": {},
          "execution_count": 47
        }
      ]
    },
    {
      "cell_type": "code",
      "metadata": {
        "colab": {
          "base_uri": "https://localhost:8080/",
          "height": 283
        },
        "id": "1EGxYfzzCrV0",
        "outputId": "8a552d58-8cc8-4987-c213-ef50d5ad835d"
      },
      "source": [
        "# feature importance 비교\n",
        "import seaborn as sns\n",
        "feature_series = pd.Series(data = forest.feature_importances_, index = X_features_ohe.columns)\n",
        "feature_series = feature_series.sort_values(ascending = False)\n",
        "sns.barplot(x = feature_series, y = feature_series.index)"
      ],
      "execution_count": null,
      "outputs": [
        {
          "output_type": "execute_result",
          "data": {
            "text/plain": [
              "<matplotlib.axes._subplots.AxesSubplot at 0x7f905b0d6190>"
            ]
          },
          "metadata": {},
          "execution_count": 49
        },
        {
          "output_type": "display_data",
          "data": {
            "image/png": "[encoded data removed]",
            "text/plain": [
              "<Figure size 432x288 with 1 Axes>"
            ]
          },
          "metadata": {
            "needs_background": "light"
          }
        }
      ]
    },
    {
      "cell_type": "code",
      "metadata": {
        "colab": {
          "base_uri": "https://localhost:8080/"
        },
        "id": "qObNOT2TmE3b",
        "outputId": "4c70f439-f8ba-468c-a316-53cfae9e1e0f"
      },
      "source": [
        "# 3번 모델 Gradient Boosting Regressor\n",
        "\n",
        "from sklearn.ensemble import GradientBoostingRegressor\n",
        "\n",
        "gbr = GradientBoostingRegressor(random_state = 0)\n",
        "gbr.fit(train_scaled, y_train)"
      ],
      "execution_count": null,
      "outputs": [
        {
          "output_type": "execute_result",
          "data": {
            "text/plain": [
              "GradientBoostingRegressor(random_state=0)"
            ]
          },
          "metadata": {},
          "execution_count": 51
        }
      ]
    },
    {
      "cell_type": "code",
      "metadata": {
        "colab": {
          "base_uri": "https://localhost:8080/"
        },
        "id": "u2Sv7hQonAHW",
        "outputId": "c6b9aeec-a9bd-43a8-87af-7069827dfd8d"
      },
      "source": [
        "# Gradient Boosting Regressor 성능\n",
        "\n",
        "print('Training accuracy : {:.3f}'.format(gbr.score(train_scaled,y_train)))\n",
        "print('test Accuracy: {:.3f}'.format(gbr.score(test_scaled, y_test)))\n"
      ],
      "execution_count": null,
      "outputs": [
        {
          "output_type": "stream",
          "name": "stdout",
          "text": [
            "Training accuracy : 0.872\n",
            "test Accuracy: 0.879\n"
          ]
        }
      ]
    },
    {
      "cell_type": "code",
      "metadata": {
        "colab": {
          "base_uri": "https://localhost:8080/",
          "height": 112
        },
        "id": "QNznO2mJbLeg",
        "outputId": "051853dd-452f-46e2-f48a-4a281b7c80a7"
      },
      "source": [
        "gb = [gbr.score(train_scaled,y_train),gbr.score(test_scaled, y_test)]\n",
        "acc['gb'] = gb\n",
        "acc"
      ],
      "execution_count": null,
      "outputs": [
        {
          "output_type": "execute_result",
          "data": {
            "text/html": [
              "<div>\n",
              "<style scoped>\n",
              "    .dataframe tbody tr th:only-of-type {\n",
              "        vertical-align: middle;\n",
              "    }\n",
              "\n",
              "    .dataframe tbody tr th {\n",
              "        vertical-align: top;\n",
              "    }\n",
              "\n",
              "    .dataframe thead th {\n",
              "        text-align: right;\n",
              "    }\n",
              "</style>\n",
              "<table border=\"1\" class=\"dataframe\">\n",
              "  <thead>\n",
              "    <tr style=\"text-align: right;\">\n",
              "      <th></th>\n",
              "      <th>lr_acc</th>\n",
              "      <th>lr_ridge</th>\n",
              "      <th>lr_lasso</th>\n",
              "      <th>dtr</th>\n",
              "      <th>rf</th>\n",
              "      <th>gb</th>\n",
              "    </tr>\n",
              "  </thead>\n",
              "  <tbody>\n",
              "    <tr>\n",
              "      <th>0</th>\n",
              "      <td>0.412282</td>\n",
              "      <td>0.412282</td>\n",
              "      <td>0.398682</td>\n",
              "      <td>1.00000</td>\n",
              "      <td>0.994496</td>\n",
              "      <td>0.871943</td>\n",
              "    </tr>\n",
              "    <tr>\n",
              "      <th>1</th>\n",
              "      <td>0.409878</td>\n",
              "      <td>0.409877</td>\n",
              "      <td>0.395246</td>\n",
              "      <td>0.95597</td>\n",
              "      <td>0.969067</td>\n",
              "      <td>0.878528</td>\n",
              "    </tr>\n",
              "  </tbody>\n",
              "</table>\n",
              "</div>"
            ],
            "text/plain": [
              "     lr_acc  lr_ridge  lr_lasso      dtr        rf        gb\n",
              "0  0.412282  0.412282  0.398682  1.00000  0.994496  0.871943\n",
              "1  0.409878  0.409877  0.395246  0.95597  0.969067  0.878528"
            ]
          },
          "metadata": {},
          "execution_count": 53
        }
      ]
    },
    {
      "cell_type": "code",
      "metadata": {
        "colab": {
          "base_uri": "https://localhost:8080/",
          "height": 282
        },
        "id": "sALbwiVMECIM",
        "outputId": "0803a343-92e1-4c58-a45f-7338596813c7"
      },
      "source": [
        "# feature importance 비교\n",
        "\n",
        "feature_series = pd.Series(data = gbr.feature_importances_, index = X_features_ohe.columns)\n",
        "feature_series = feature_series.sort_values(ascending = False)\n",
        "sns.barplot(x = feature_series, y = feature_series.index)"
      ],
      "execution_count": null,
      "outputs": [
        {
          "output_type": "execute_result",
          "data": {
            "text/plain": [
              "<matplotlib.axes._subplots.AxesSubplot at 0x7f7a724a0050>"
            ]
          },
          "metadata": {},
          "execution_count": 104
        },
        {
          "output_type": "display_data",
          "data": {
            "image/png": "[encoded data removed]",
            "text/plain": [
              "<Figure size 432x288 with 1 Axes>"
            ]
          },
          "metadata": {
            "needs_background": "light"
          }
        }
      ]
    },
    {
      "cell_type": "code",
      "metadata": {
        "colab": {
          "base_uri": "https://localhost:8080/"
        },
        "id": "0JEtonly40co",
        "outputId": "366780fa-01f8-4257-8463-3ae2dc09cf7a"
      },
      "source": [
        "# 4번 모델 AdaBoost 모델\n",
        "from sklearn.ensemble import AdaBoostRegressor\n",
        "\n",
        "abr = AdaBoostRegressor(random_state = 0)\n",
        "abr.fit(train_scaled, y_train)"
      ],
      "execution_count": null,
      "outputs": [
        {
          "output_type": "execute_result",
          "data": {
            "text/plain": [
              "AdaBoostRegressor(random_state=0)"
            ]
          },
          "metadata": {},
          "execution_count": 54
        }
      ]
    },
    {
      "cell_type": "code",
      "metadata": {
        "colab": {
          "base_uri": "https://localhost:8080/"
        },
        "id": "ah-C2FVREQjO",
        "outputId": "2a182062-7355-41fd-f969-8301dee9fbb4"
      },
      "source": [
        "print('Training accuracy : {:.3f}'.format(abr.score(train_scaled,y_train)))\n",
        "print('test Accuracy: {:.3f}'.format(abr.score(test_scaled, y_test)))"
      ],
      "execution_count": null,
      "outputs": [
        {
          "output_type": "stream",
          "name": "stdout",
          "text": [
            "Training accuracy : -0.192\n",
            "test Accuracy: -0.175\n"
          ]
        }
      ]
    },
    {
      "cell_type": "code",
      "metadata": {
        "colab": {
          "base_uri": "https://localhost:8080/",
          "height": 112
        },
        "id": "6XkzvtnLbmxn",
        "outputId": "cfe52c14-6e41-4c53-c0a1-1cd1534b24a9"
      },
      "source": [
        "ada = [abr.score(train_scaled,y_train),abr.score(test_scaled, y_test)]\n",
        "acc['ada'] = ada\n",
        "acc"
      ],
      "execution_count": null,
      "outputs": [
        {
          "output_type": "execute_result",
          "data": {
            "text/html": [
              "<div>\n",
              "<style scoped>\n",
              "    .dataframe tbody tr th:only-of-type {\n",
              "        vertical-align: middle;\n",
              "    }\n",
              "\n",
              "    .dataframe tbody tr th {\n",
              "        vertical-align: top;\n",
              "    }\n",
              "\n",
              "    .dataframe thead th {\n",
              "        text-align: right;\n",
              "    }\n",
              "</style>\n",
              "<table border=\"1\" class=\"dataframe\">\n",
              "  <thead>\n",
              "    <tr style=\"text-align: right;\">\n",
              "      <th></th>\n",
              "      <th>lr_acc</th>\n",
              "      <th>lr_ridge</th>\n",
              "      <th>lr_lasso</th>\n",
              "      <th>dtr</th>\n",
              "      <th>rf</th>\n",
              "      <th>gb</th>\n",
              "      <th>ada</th>\n",
              "    </tr>\n",
              "  </thead>\n",
              "  <tbody>\n",
              "    <tr>\n",
              "      <th>0</th>\n",
              "      <td>0.412282</td>\n",
              "      <td>0.412282</td>\n",
              "      <td>0.398682</td>\n",
              "      <td>1.00000</td>\n",
              "      <td>0.994496</td>\n",
              "      <td>0.871943</td>\n",
              "      <td>-0.191675</td>\n",
              "    </tr>\n",
              "    <tr>\n",
              "      <th>1</th>\n",
              "      <td>0.409878</td>\n",
              "      <td>0.409877</td>\n",
              "      <td>0.395246</td>\n",
              "      <td>0.95597</td>\n",
              "      <td>0.969067</td>\n",
              "      <td>0.878528</td>\n",
              "      <td>-0.174882</td>\n",
              "    </tr>\n",
              "  </tbody>\n",
              "</table>\n",
              "</div>"
            ],
            "text/plain": [
              "     lr_acc  lr_ridge  lr_lasso      dtr        rf        gb       ada\n",
              "0  0.412282  0.412282  0.398682  1.00000  0.994496  0.871943 -0.191675\n",
              "1  0.409878  0.409877  0.395246  0.95597  0.969067  0.878528 -0.174882"
            ]
          },
          "metadata": {},
          "execution_count": 56
        }
      ]
    },
    {
      "cell_type": "code",
      "metadata": {
        "colab": {
          "base_uri": "https://localhost:8080/",
          "height": 112
        },
        "id": "M_dGooE8bzLD",
        "outputId": "3858ac38-35e2-41eb-e097-7ee14d1fb8bb"
      },
      "source": [
        "acc.index=['Training Accuracy', 'Test Accuracy']\n",
        "acc"
      ],
      "execution_count": null,
      "outputs": [
        {
          "output_type": "execute_result",
          "data": {
            "text/html": [
              "<div>\n",
              "<style scoped>\n",
              "    .dataframe tbody tr th:only-of-type {\n",
              "        vertical-align: middle;\n",
              "    }\n",
              "\n",
              "    .dataframe tbody tr th {\n",
              "        vertical-align: top;\n",
              "    }\n",
              "\n",
              "    .dataframe thead th {\n",
              "        text-align: right;\n",
              "    }\n",
              "</style>\n",
              "<table border=\"1\" class=\"dataframe\">\n",
              "  <thead>\n",
              "    <tr style=\"text-align: right;\">\n",
              "      <th></th>\n",
              "      <th>lr_acc</th>\n",
              "      <th>lr_ridge</th>\n",
              "      <th>lr_lasso</th>\n",
              "      <th>dtr</th>\n",
              "      <th>rf</th>\n",
              "      <th>gb</th>\n",
              "      <th>ada</th>\n",
              "    </tr>\n",
              "  </thead>\n",
              "  <tbody>\n",
              "    <tr>\n",
              "      <th>Training Accuracy</th>\n",
              "      <td>0.412282</td>\n",
              "      <td>0.412282</td>\n",
              "      <td>0.398682</td>\n",
              "      <td>1.00000</td>\n",
              "      <td>0.994496</td>\n",
              "      <td>0.871943</td>\n",
              "      <td>-0.191675</td>\n",
              "    </tr>\n",
              "    <tr>\n",
              "      <th>Test Accuracy</th>\n",
              "      <td>0.409878</td>\n",
              "      <td>0.409877</td>\n",
              "      <td>0.395246</td>\n",
              "      <td>0.95597</td>\n",
              "      <td>0.969067</td>\n",
              "      <td>0.878528</td>\n",
              "      <td>-0.174882</td>\n",
              "    </tr>\n",
              "  </tbody>\n",
              "</table>\n",
              "</div>"
            ],
            "text/plain": [
              "                     lr_acc  lr_ridge  lr_lasso  ...        rf        gb       ada\n",
              "Training Accuracy  0.412282  0.412282  0.398682  ...  0.994496  0.871943 -0.191675\n",
              "Test Accuracy      0.409878  0.409877  0.395246  ...  0.969067  0.878528 -0.174882\n",
              "\n",
              "[2 rows x 7 columns]"
            ]
          },
          "metadata": {},
          "execution_count": 58
        }
      ]
    },
    {
      "cell_type": "code",
      "metadata": {
        "colab": {
          "base_uri": "https://localhost:8080/"
        },
        "id": "P-uK-GjbnJed",
        "outputId": "71a5c39e-609c-4210-ce2e-fd2320f0c055"
      },
      "source": [
        "# 5번 모델 Bagging\n",
        "\n",
        "from sklearn.ensemble import BaggingRegressor\n",
        "\n",
        "bagging = BaggingRegressor(DecisionTreeRegressor(), n_estimators =100, oob_score = True, n_jobs = -1, random_state = 0 )\n",
        "bagging.fit(train_scaled, y_train)\n"
      ],
      "execution_count": null,
      "outputs": [
        {
          "output_type": "execute_result",
          "data": {
            "text/plain": [
              "BaggingRegressor(base_estimator=DecisionTreeRegressor(), n_estimators=100,\n",
              "                 n_jobs=-1, oob_score=True, random_state=0)"
            ]
          },
          "metadata": {},
          "execution_count": 59
        }
      ]
    },
    {
      "cell_type": "code",
      "metadata": {
        "colab": {
          "base_uri": "https://localhost:8080/"
        },
        "id": "jrhqmeVZ4J5W",
        "outputId": "6b55ee30-e52d-45da-e475-cc3b9736e9a0"
      },
      "source": [
        "print('Training accuracy : {:.3f}'.format(bagging.score(train_scaled,y_train)))\n",
        "print('test Accuracy: {:.3f}'.format(bagging.score(test_scaled, y_test)))\n",
        "print('OOB sample Accuracy : {:.3f}'.format(bagging.oob_score_))"
      ],
      "execution_count": null,
      "outputs": [
        {
          "output_type": "stream",
          "name": "stdout",
          "text": [
            "Training accuracy : 0.994\n",
            "test Accuracy: 0.969\n",
            "OOB sample Accuracy : 0.959\n"
          ]
        }
      ]
    },
    {
      "cell_type": "code",
      "metadata": {
        "colab": {
          "base_uri": "https://localhost:8080/",
          "height": 112
        },
        "id": "AsFmFaY9cvmZ",
        "outputId": "545acc19-8b19-419b-9863-fc189e08aa76"
      },
      "source": [
        "bag = [bagging.score(train_scaled,y_train),bagging.score(test_scaled, y_test)]\n",
        "acc['bag'] = bag\n",
        "acc"
      ],
      "execution_count": null,
      "outputs": [
        {
          "output_type": "execute_result",
          "data": {
            "text/html": [
              "<div>\n",
              "<style scoped>\n",
              "    .dataframe tbody tr th:only-of-type {\n",
              "        vertical-align: middle;\n",
              "    }\n",
              "\n",
              "    .dataframe tbody tr th {\n",
              "        vertical-align: top;\n",
              "    }\n",
              "\n",
              "    .dataframe thead th {\n",
              "        text-align: right;\n",
              "    }\n",
              "</style>\n",
              "<table border=\"1\" class=\"dataframe\">\n",
              "  <thead>\n",
              "    <tr style=\"text-align: right;\">\n",
              "      <th></th>\n",
              "      <th>lr_acc</th>\n",
              "      <th>lr_ridge</th>\n",
              "      <th>lr_lasso</th>\n",
              "      <th>dtr</th>\n",
              "      <th>rf</th>\n",
              "      <th>gb</th>\n",
              "      <th>ada</th>\n",
              "      <th>bag</th>\n",
              "    </tr>\n",
              "  </thead>\n",
              "  <tbody>\n",
              "    <tr>\n",
              "      <th>Training Accuracy</th>\n",
              "      <td>0.412282</td>\n",
              "      <td>0.412282</td>\n",
              "      <td>0.398682</td>\n",
              "      <td>1.00000</td>\n",
              "      <td>0.994496</td>\n",
              "      <td>0.871943</td>\n",
              "      <td>-0.191675</td>\n",
              "      <td>0.994259</td>\n",
              "    </tr>\n",
              "    <tr>\n",
              "      <th>Test Accuracy</th>\n",
              "      <td>0.409878</td>\n",
              "      <td>0.409877</td>\n",
              "      <td>0.395246</td>\n",
              "      <td>0.95597</td>\n",
              "      <td>0.969067</td>\n",
              "      <td>0.878528</td>\n",
              "      <td>-0.174882</td>\n",
              "      <td>0.968916</td>\n",
              "    </tr>\n",
              "  </tbody>\n",
              "</table>\n",
              "</div>"
            ],
            "text/plain": [
              "                     lr_acc  lr_ridge  lr_lasso  ...        gb       ada       bag\n",
              "Training Accuracy  0.412282  0.412282  0.398682  ...  0.871943 -0.191675  0.994259\n",
              "Test Accuracy      0.409878  0.409877  0.395246  ...  0.878528 -0.174882  0.968916\n",
              "\n",
              "[2 rows x 8 columns]"
            ]
          },
          "metadata": {},
          "execution_count": 65
        }
      ]
    },
    {
      "cell_type": "code",
      "metadata": {
        "colab": {
          "base_uri": "https://localhost:8080/"
        },
        "id": "3nfTdcDcEguJ",
        "outputId": "80a8df62-c99d-418d-e48c-6a67c33b3238"
      },
      "source": [
        "# SVR 모델\n",
        "\n",
        "from sklearn.svm import LinearSVR\n",
        "svr= LinearSVR(max_iter = 10000)\n",
        "svr.fit(train_scaled,y_train)\n",
        "\n",
        "print(\"훈련 세트 정확도: {:.2f}\".format(svr.score(train_scaled,y_train)))\n",
        "print(\"테스트 세트 정확도:{:.2f}\".format(svr.score(test_scaled,y_test)))\n"
      ],
      "execution_count": null,
      "outputs": [
        {
          "output_type": "stream",
          "name": "stdout",
          "text": [
            "훈련 세트 정확도: 0.38\n",
            "테스트 세트 정확도:0.37\n"
          ]
        }
      ]
    },
    {
      "cell_type": "code",
      "metadata": {
        "colab": {
          "base_uri": "https://localhost:8080/",
          "height": 112
        },
        "id": "rc-3SQvIc9KP",
        "outputId": "310dd211-e77d-4789-d7ce-612413f16641"
      },
      "source": [
        "svr = [svr.score(train_scaled,y_train),svr.score(test_scaled,y_test)]\n",
        "acc['svr'] = svr\n",
        "acc"
      ],
      "execution_count": null,
      "outputs": [
        {
          "output_type": "execute_result",
          "data": {
            "text/html": [
              "<div>\n",
              "<style scoped>\n",
              "    .dataframe tbody tr th:only-of-type {\n",
              "        vertical-align: middle;\n",
              "    }\n",
              "\n",
              "    .dataframe tbody tr th {\n",
              "        vertical-align: top;\n",
              "    }\n",
              "\n",
              "    .dataframe thead th {\n",
              "        text-align: right;\n",
              "    }\n",
              "</style>\n",
              "<table border=\"1\" class=\"dataframe\">\n",
              "  <thead>\n",
              "    <tr style=\"text-align: right;\">\n",
              "      <th></th>\n",
              "      <th>lr_acc</th>\n",
              "      <th>lr_ridge</th>\n",
              "      <th>lr_lasso</th>\n",
              "      <th>dtr</th>\n",
              "      <th>rf</th>\n",
              "      <th>gb</th>\n",
              "      <th>ada</th>\n",
              "      <th>bag</th>\n",
              "      <th>svr</th>\n",
              "    </tr>\n",
              "  </thead>\n",
              "  <tbody>\n",
              "    <tr>\n",
              "      <th>Training Accuracy</th>\n",
              "      <td>0.412282</td>\n",
              "      <td>0.412282</td>\n",
              "      <td>0.398682</td>\n",
              "      <td>1.00000</td>\n",
              "      <td>0.994496</td>\n",
              "      <td>0.871943</td>\n",
              "      <td>-0.191675</td>\n",
              "      <td>0.994259</td>\n",
              "      <td>0.377710</td>\n",
              "    </tr>\n",
              "    <tr>\n",
              "      <th>Test Accuracy</th>\n",
              "      <td>0.409878</td>\n",
              "      <td>0.409877</td>\n",
              "      <td>0.395246</td>\n",
              "      <td>0.95597</td>\n",
              "      <td>0.969067</td>\n",
              "      <td>0.878528</td>\n",
              "      <td>-0.174882</td>\n",
              "      <td>0.968916</td>\n",
              "      <td>0.374226</td>\n",
              "    </tr>\n",
              "  </tbody>\n",
              "</table>\n",
              "</div>"
            ],
            "text/plain": [
              "                     lr_acc  lr_ridge  lr_lasso  ...       ada       bag       svr\n",
              "Training Accuracy  0.412282  0.412282  0.398682  ... -0.191675  0.994259  0.377710\n",
              "Test Accuracy      0.409878  0.409877  0.395246  ... -0.174882  0.968916  0.374226\n",
              "\n",
              "[2 rows x 9 columns]"
            ]
          },
          "metadata": {},
          "execution_count": 67
        }
      ]
    },
    {
      "cell_type": "code",
      "metadata": {
        "colab": {
          "base_uri": "https://localhost:8080/"
        },
        "id": "i4Ct8nQUP8QS",
        "outputId": "015423b4-824f-4bc3-e898-17c0e599f92e"
      },
      "source": [
        "# K-Nearest Neighbors 모델\n",
        "from sklearn.neighbors import KNeighborsRegressor\n",
        "knn= KNeighborsRegressor()\n",
        "knn.fit(train_scaled,y_train)\n",
        "\n",
        "print(\"훈련 세트 정확도: {:.2f}\".format(knn.score(train_scaled,y_train)))\n",
        "print(\"테스트 세트 정확도:{:.2f}\".format(knn.score(test_scaled,y_test)))"
      ],
      "execution_count": null,
      "outputs": [
        {
          "output_type": "stream",
          "name": "stdout",
          "text": [
            "훈련 세트 정확도: 0.93\n",
            "테스트 세트 정확도:0.90\n"
          ]
        }
      ]
    },
    {
      "cell_type": "code",
      "metadata": {
        "id": "RnQ12zzIRIda",
        "colab": {
          "base_uri": "https://localhost:8080/",
          "height": 112
        },
        "outputId": "3914db4c-3958-43ff-c3e4-b8486d46f44e"
      },
      "source": [
        "knn = [knn.score(train_scaled,y_train),knn.score(test_scaled,y_test)]\n",
        "acc['knn'] = knn\n",
        "acc"
      ],
      "execution_count": null,
      "outputs": [
        {
          "output_type": "execute_result",
          "data": {
            "text/html": [
              "<div>\n",
              "<style scoped>\n",
              "    .dataframe tbody tr th:only-of-type {\n",
              "        vertical-align: middle;\n",
              "    }\n",
              "\n",
              "    .dataframe tbody tr th {\n",
              "        vertical-align: top;\n",
              "    }\n",
              "\n",
              "    .dataframe thead th {\n",
              "        text-align: right;\n",
              "    }\n",
              "</style>\n",
              "<table border=\"1\" class=\"dataframe\">\n",
              "  <thead>\n",
              "    <tr style=\"text-align: right;\">\n",
              "      <th></th>\n",
              "      <th>lr_acc</th>\n",
              "      <th>lr_ridge</th>\n",
              "      <th>lr_lasso</th>\n",
              "      <th>dtr</th>\n",
              "      <th>rf</th>\n",
              "      <th>gb</th>\n",
              "      <th>ada</th>\n",
              "      <th>bag</th>\n",
              "      <th>svr</th>\n",
              "      <th>knn</th>\n",
              "    </tr>\n",
              "  </thead>\n",
              "  <tbody>\n",
              "    <tr>\n",
              "      <th>Training Accuracy</th>\n",
              "      <td>0.412282</td>\n",
              "      <td>0.412282</td>\n",
              "      <td>0.398682</td>\n",
              "      <td>1.00000</td>\n",
              "      <td>0.994496</td>\n",
              "      <td>0.871943</td>\n",
              "      <td>-0.191675</td>\n",
              "      <td>0.994259</td>\n",
              "      <td>0.377710</td>\n",
              "      <td>0.932282</td>\n",
              "    </tr>\n",
              "    <tr>\n",
              "      <th>Test Accuracy</th>\n",
              "      <td>0.409878</td>\n",
              "      <td>0.409877</td>\n",
              "      <td>0.395246</td>\n",
              "      <td>0.95597</td>\n",
              "      <td>0.969067</td>\n",
              "      <td>0.878528</td>\n",
              "      <td>-0.174882</td>\n",
              "      <td>0.968916</td>\n",
              "      <td>0.374226</td>\n",
              "      <td>0.904783</td>\n",
              "    </tr>\n",
              "  </tbody>\n",
              "</table>\n",
              "</div>"
            ],
            "text/plain": [
              "                     lr_acc  lr_ridge  lr_lasso  ...       bag       svr       knn\n",
              "Training Accuracy  0.412282  0.412282  0.398682  ...  0.994259  0.377710  0.932282\n",
              "Test Accuracy      0.409878  0.409877  0.395246  ...  0.968916  0.374226  0.904783\n",
              "\n",
              "[2 rows x 10 columns]"
            ]
          },
          "metadata": {},
          "execution_count": 69
        }
      ]
    },
    {
      "cell_type": "code",
      "metadata": {
        "colab": {
          "base_uri": "https://localhost:8080/",
          "height": 112
        },
        "id": "9UK066m_dfk5",
        "outputId": "3def97cd-1dea-42ad-d3e4-4a92aa6ab08d"
      },
      "source": [
        "acc.columns = ['Linear Regression', 'Ridge', 'Lasso','Decistion Tree', 'Random Forest', ' Gradient Boosting', 'Adagrad Boosting', 'Bagging', 'SVR', 'KNN']\n",
        "acc"
      ],
      "execution_count": null,
      "outputs": [
        {
          "output_type": "execute_result",
          "data": {
            "text/html": [
              "<div>\n",
              "<style scoped>\n",
              "    .dataframe tbody tr th:only-of-type {\n",
              "        vertical-align: middle;\n",
              "    }\n",
              "\n",
              "    .dataframe tbody tr th {\n",
              "        vertical-align: top;\n",
              "    }\n",
              "\n",
              "    .dataframe thead th {\n",
              "        text-align: right;\n",
              "    }\n",
              "</style>\n",
              "<table border=\"1\" class=\"dataframe\">\n",
              "  <thead>\n",
              "    <tr style=\"text-align: right;\">\n",
              "      <th></th>\n",
              "      <th>Linear Regression</th>\n",
              "      <th>Ridge</th>\n",
              "      <th>Lasso</th>\n",
              "      <th>Decistion Tree</th>\n",
              "      <th>Random Forest</th>\n",
              "      <th>Gradient Boosting</th>\n",
              "      <th>Adagrad Boosting</th>\n",
              "      <th>Bagging</th>\n",
              "      <th>SVR</th>\n",
              "      <th>KNN</th>\n",
              "    </tr>\n",
              "  </thead>\n",
              "  <tbody>\n",
              "    <tr>\n",
              "      <th>Training Accuracy</th>\n",
              "      <td>0.412282</td>\n",
              "      <td>0.412282</td>\n",
              "      <td>0.398682</td>\n",
              "      <td>1.00000</td>\n",
              "      <td>0.994496</td>\n",
              "      <td>0.871943</td>\n",
              "      <td>-0.191675</td>\n",
              "      <td>0.994259</td>\n",
              "      <td>0.377710</td>\n",
              "      <td>0.932282</td>\n",
              "    </tr>\n",
              "    <tr>\n",
              "      <th>Test Accuracy</th>\n",
              "      <td>0.409878</td>\n",
              "      <td>0.409877</td>\n",
              "      <td>0.395246</td>\n",
              "      <td>0.95597</td>\n",
              "      <td>0.969067</td>\n",
              "      <td>0.878528</td>\n",
              "      <td>-0.174882</td>\n",
              "      <td>0.968916</td>\n",
              "      <td>0.374226</td>\n",
              "      <td>0.904783</td>\n",
              "    </tr>\n",
              "  </tbody>\n",
              "</table>\n",
              "</div>"
            ],
            "text/plain": [
              "                   Linear Regression     Ridge  ...       SVR       KNN\n",
              "Training Accuracy           0.412282  0.412282  ...  0.377710  0.932282\n",
              "Test Accuracy               0.409878  0.409877  ...  0.374226  0.904783\n",
              "\n",
              "[2 rows x 10 columns]"
            ]
          },
          "metadata": {},
          "execution_count": 70
        }
      ]
    },
    {
      "cell_type": "code",
      "metadata": {
        "colab": {
          "base_uri": "https://localhost:8080/"
        },
        "id": "NKAilFisgwdG",
        "outputId": "da4b1f44-f303-41ae-8e64-bdb598db039e"
      },
      "source": [
        "acc.to_numpy()"
      ],
      "execution_count": null,
      "outputs": [
        {
          "output_type": "execute_result",
          "data": {
            "text/plain": [
              "array([[ 0.41228249,  0.41228248,  0.39868247,  1.        ,  0.99449553,\n",
              "         0.87194276, -0.19167482,  0.99425896,  0.37770956,  0.93228238],\n",
              "       [ 0.4098781 ,  0.40987733,  0.39524592,  0.95596987,  0.96906717,\n",
              "         0.87852793, -0.17488193,  0.96891568,  0.37422586,  0.90478297]])"
            ]
          },
          "metadata": {},
          "execution_count": 76
        }
      ]
    },
    {
      "cell_type": "code",
      "metadata": {
        "colab": {
          "base_uri": "https://localhost:8080/",
          "height": 612
        },
        "id": "gijCm5b8duHC",
        "outputId": "3d5ed19f-c1c7-49ab-a1ee-810e8860ea26"
      },
      "source": [
        "x = acc.columns\n",
        "y = acc.to_numpy()\n",
        "\n",
        "plt.plot(x, y)"
      ],
      "execution_count": null,
      "outputs": [
        {
          "output_type": "error",
          "ename": "ValueError",
          "evalue": "ignored",
          "traceback": [
            "\u001b[0;31m---------------------------------------------------------------------------\u001b[0m",
            "\u001b[0;31mValueError\u001b[0m                                Traceback (most recent call last)",
            "\u001b[0;32m<ipython-input-77-0992015453f3>\u001b[0m in \u001b[0;36m<module>\u001b[0;34m()\u001b[0m\n\u001b[1;32m      2\u001b[0m \u001b[0my\u001b[0m \u001b[0;34m=\u001b[0m \u001b[0macc\u001b[0m\u001b[0;34m.\u001b[0m\u001b[0mto_numpy\u001b[0m\u001b[0;34m(\u001b[0m\u001b[0;34m)\u001b[0m\u001b[0;34m\u001b[0m\u001b[0;34m\u001b[0m\u001b[0m\n\u001b[1;32m      3\u001b[0m \u001b[0;34m\u001b[0m\u001b[0m\n\u001b[0;32m----> 4\u001b[0;31m \u001b[0mplt\u001b[0m\u001b[0;34m.\u001b[0m\u001b[0mplot\u001b[0m\u001b[0;34m(\u001b[0m\u001b[0mx\u001b[0m\u001b[0;34m,\u001b[0m \u001b[0my\u001b[0m\u001b[0;34m)\u001b[0m\u001b[0;34m\u001b[0m\u001b[0;34m\u001b[0m\u001b[0m\n\u001b[0m",
            "\u001b[0;32m/usr/local/lib/python3.7/dist-packages/matplotlib/pyplot.py\u001b[0m in \u001b[0;36mplot\u001b[0;34m(scalex, scaley, data, *args, **kwargs)\u001b[0m\n\u001b[1;32m   2761\u001b[0m     return gca().plot(\n\u001b[1;32m   2762\u001b[0m         *args, scalex=scalex, scaley=scaley, **({\"data\": data} if data\n\u001b[0;32m-> 2763\u001b[0;31m         is not None else {}), **kwargs)\n\u001b[0m\u001b[1;32m   2764\u001b[0m \u001b[0;34m\u001b[0m\u001b[0m\n\u001b[1;32m   2765\u001b[0m \u001b[0;34m\u001b[0m\u001b[0m\n",
            "\u001b[0;32m/usr/local/lib/python3.7/dist-packages/matplotlib/axes/_axes.py\u001b[0m in \u001b[0;36mplot\u001b[0;34m(self, scalex, scaley, data, *args, **kwargs)\u001b[0m\n\u001b[1;32m   1645\u001b[0m         \"\"\"\n\u001b[1;32m   1646\u001b[0m         \u001b[0mkwargs\u001b[0m \u001b[0;34m=\u001b[0m \u001b[0mcbook\u001b[0m\u001b[0;34m.\u001b[0m\u001b[0mnormalize_kwargs\u001b[0m\u001b[0;34m(\u001b[0m\u001b[0mkwargs\u001b[0m\u001b[0;34m,\u001b[0m \u001b[0mmlines\u001b[0m\u001b[0;34m.\u001b[0m\u001b[0mLine2D\u001b[0m\u001b[0;34m)\u001b[0m\u001b[0;34m\u001b[0m\u001b[0;34m\u001b[0m\u001b[0m\n\u001b[0;32m-> 1647\u001b[0;31m         \u001b[0mlines\u001b[0m \u001b[0;34m=\u001b[0m \u001b[0;34m[\u001b[0m\u001b[0;34m*\u001b[0m\u001b[0mself\u001b[0m\u001b[0;34m.\u001b[0m\u001b[0m_get_lines\u001b[0m\u001b[0;34m(\u001b[0m\u001b[0;34m*\u001b[0m\u001b[0margs\u001b[0m\u001b[0;34m,\u001b[0m \u001b[0mdata\u001b[0m\u001b[0;34m=\u001b[0m\u001b[0mdata\u001b[0m\u001b[0;34m,\u001b[0m \u001b[0;34m**\u001b[0m\u001b[0mkwargs\u001b[0m\u001b[0;34m)\u001b[0m\u001b[0;34m]\u001b[0m\u001b[0;34m\u001b[0m\u001b[0;34m\u001b[0m\u001b[0m\n\u001b[0m\u001b[1;32m   1648\u001b[0m         \u001b[0;32mfor\u001b[0m \u001b[0mline\u001b[0m \u001b[0;32min\u001b[0m \u001b[0mlines\u001b[0m\u001b[0;34m:\u001b[0m\u001b[0;34m\u001b[0m\u001b[0;34m\u001b[0m\u001b[0m\n\u001b[1;32m   1649\u001b[0m             \u001b[0mself\u001b[0m\u001b[0;34m.\u001b[0m\u001b[0madd_line\u001b[0m\u001b[0;34m(\u001b[0m\u001b[0mline\u001b[0m\u001b[0;34m)\u001b[0m\u001b[0;34m\u001b[0m\u001b[0;34m\u001b[0m\u001b[0m\n",
            "\u001b[0;32m/usr/local/lib/python3.7/dist-packages/matplotlib/axes/_base.py\u001b[0m in \u001b[0;36m__call__\u001b[0;34m(self, *args, **kwargs)\u001b[0m\n\u001b[1;32m    214\u001b[0m                 \u001b[0mthis\u001b[0m \u001b[0;34m+=\u001b[0m \u001b[0margs\u001b[0m\u001b[0;34m[\u001b[0m\u001b[0;36m0\u001b[0m\u001b[0;34m]\u001b[0m\u001b[0;34m,\u001b[0m\u001b[0;34m\u001b[0m\u001b[0;34m\u001b[0m\u001b[0m\n\u001b[1;32m    215\u001b[0m                 \u001b[0margs\u001b[0m \u001b[0;34m=\u001b[0m \u001b[0margs\u001b[0m\u001b[0;34m[\u001b[0m\u001b[0;36m1\u001b[0m\u001b[0;34m:\u001b[0m\u001b[0;34m]\u001b[0m\u001b[0;34m\u001b[0m\u001b[0;34m\u001b[0m\u001b[0m\n\u001b[0;32m--> 216\u001b[0;31m             \u001b[0;32myield\u001b[0m \u001b[0;32mfrom\u001b[0m \u001b[0mself\u001b[0m\u001b[0;34m.\u001b[0m\u001b[0m_plot_args\u001b[0m\u001b[0;34m(\u001b[0m\u001b[0mthis\u001b[0m\u001b[0;34m,\u001b[0m \u001b[0mkwargs\u001b[0m\u001b[0;34m)\u001b[0m\u001b[0;34m\u001b[0m\u001b[0;34m\u001b[0m\u001b[0m\n\u001b[0m\u001b[1;32m    217\u001b[0m \u001b[0;34m\u001b[0m\u001b[0m\n\u001b[1;32m    218\u001b[0m     \u001b[0;32mdef\u001b[0m \u001b[0mget_next_color\u001b[0m\u001b[0;34m(\u001b[0m\u001b[0mself\u001b[0m\u001b[0;34m)\u001b[0m\u001b[0;34m:\u001b[0m\u001b[0;34m\u001b[0m\u001b[0;34m\u001b[0m\u001b[0m\n",
            "\u001b[0;32m/usr/local/lib/python3.7/dist-packages/matplotlib/axes/_base.py\u001b[0m in \u001b[0;36m_plot_args\u001b[0;34m(self, tup, kwargs)\u001b[0m\n\u001b[1;32m    340\u001b[0m \u001b[0;34m\u001b[0m\u001b[0m\n\u001b[1;32m    341\u001b[0m         \u001b[0;32mif\u001b[0m \u001b[0mx\u001b[0m\u001b[0;34m.\u001b[0m\u001b[0mshape\u001b[0m\u001b[0;34m[\u001b[0m\u001b[0;36m0\u001b[0m\u001b[0;34m]\u001b[0m \u001b[0;34m!=\u001b[0m \u001b[0my\u001b[0m\u001b[0;34m.\u001b[0m\u001b[0mshape\u001b[0m\u001b[0;34m[\u001b[0m\u001b[0;36m0\u001b[0m\u001b[0;34m]\u001b[0m\u001b[0;34m:\u001b[0m\u001b[0;34m\u001b[0m\u001b[0;34m\u001b[0m\u001b[0m\n\u001b[0;32m--> 342\u001b[0;31m             raise ValueError(f\"x and y must have same first dimension, but \"\n\u001b[0m\u001b[1;32m    343\u001b[0m                              f\"have shapes {x.shape} and {y.shape}\")\n\u001b[1;32m    344\u001b[0m         \u001b[0;32mif\u001b[0m \u001b[0mx\u001b[0m\u001b[0;34m.\u001b[0m\u001b[0mndim\u001b[0m \u001b[0;34m>\u001b[0m \u001b[0;36m2\u001b[0m \u001b[0;32mor\u001b[0m \u001b[0my\u001b[0m\u001b[0;34m.\u001b[0m\u001b[0mndim\u001b[0m \u001b[0;34m>\u001b[0m \u001b[0;36m2\u001b[0m\u001b[0;34m:\u001b[0m\u001b[0;34m\u001b[0m\u001b[0;34m\u001b[0m\u001b[0m\n",
            "\u001b[0;31mValueError\u001b[0m: x and y must have same first dimension, but have shapes (10,) and (2, 10)"
          ]
        },
        {
          "output_type": "display_data",
          "data": {
            "image/png": "[encoded data removed]",
            "text/plain": [
              "<Figure size 432x288 with 1 Axes>"
            ]
          },
          "metadata": {
            "needs_background": "light"
          }
        }
      ]
    },
    {
      "cell_type": "code",
      "metadata": {
        "id": "THPeHGZ8dxRn"
      },
      "source": [
        ""
      ],
      "execution_count": null,
      "outputs": []
    },
    {
      "cell_type": "markdown",
      "metadata": {
        "id": "h4fAnxuvQwfE"
      },
      "source": [
        "## PCA\n"
      ]
    },
    {
      "cell_type": "code",
      "metadata": {
        "colab": {
          "base_uri": "https://localhost:8080/",
          "height": 423
        },
        "id": "1oukTFk9N6W0",
        "outputId": "c0b8f0fa-aa17-412a-84c5-4e5433ff0ad3"
      },
      "source": [
        "# PCA\n",
        "\n",
        "from sklearn.decomposition import PCA\n",
        "\n",
        "pca = PCA()\n",
        "ss.fit(X_features_ohe)\n",
        "X_scaled = ss.transform(X_features_ohe)\n",
        "\n",
        "pca.fit(X_scaled)\n",
        "pca_data = pca.transform(X_scaled)\n",
        "df_pca = pd.DataFrame(pca_data)\n",
        "df_pca.columns = ['PC'+ str(i) for i in range(1,10)]\n",
        "df_pca"
      ],
      "execution_count": 14,
      "outputs": [
        {
          "output_type": "execute_result",
          "data": {
            "text/html": [
              "<div>\n",
              "<style scoped>\n",
              "    .dataframe tbody tr th:only-of-type {\n",
              "        vertical-align: middle;\n",
              "    }\n",
              "\n",
              "    .dataframe tbody tr th {\n",
              "        vertical-align: top;\n",
              "    }\n",
              "\n",
              "    .dataframe thead th {\n",
              "        text-align: right;\n",
              "    }\n",
              "</style>\n",
              "<table border=\"1\" class=\"dataframe\">\n",
              "  <thead>\n",
              "    <tr style=\"text-align: right;\">\n",
              "      <th></th>\n",
              "      <th>PC1</th>\n",
              "      <th>PC2</th>\n",
              "      <th>PC3</th>\n",
              "      <th>PC4</th>\n",
              "      <th>PC5</th>\n",
              "      <th>PC6</th>\n",
              "      <th>PC7</th>\n",
              "      <th>PC8</th>\n",
              "      <th>PC9</th>\n",
              "    </tr>\n",
              "  </thead>\n",
              "  <tbody>\n",
              "    <tr>\n",
              "      <th>0</th>\n",
              "      <td>0.436696</td>\n",
              "      <td>-0.673416</td>\n",
              "      <td>3.654752</td>\n",
              "      <td>3.093123</td>\n",
              "      <td>3.284432</td>\n",
              "      <td>-0.659482</td>\n",
              "      <td>1.036261</td>\n",
              "      <td>-0.171266</td>\n",
              "      <td>-1.376268e-15</td>\n",
              "    </tr>\n",
              "    <tr>\n",
              "      <th>1</th>\n",
              "      <td>0.467310</td>\n",
              "      <td>-0.713704</td>\n",
              "      <td>3.541771</td>\n",
              "      <td>2.865997</td>\n",
              "      <td>2.979109</td>\n",
              "      <td>-0.608871</td>\n",
              "      <td>1.066116</td>\n",
              "      <td>-0.159443</td>\n",
              "      <td>-1.376268e-15</td>\n",
              "    </tr>\n",
              "    <tr>\n",
              "      <th>2</th>\n",
              "      <td>0.471572</td>\n",
              "      <td>-0.552815</td>\n",
              "      <td>3.563906</td>\n",
              "      <td>2.925306</td>\n",
              "      <td>2.977594</td>\n",
              "      <td>-0.609215</td>\n",
              "      <td>1.072747</td>\n",
              "      <td>0.000014</td>\n",
              "      <td>-1.376268e-15</td>\n",
              "    </tr>\n",
              "    <tr>\n",
              "      <th>3</th>\n",
              "      <td>0.544156</td>\n",
              "      <td>0.077991</td>\n",
              "      <td>3.467736</td>\n",
              "      <td>2.723706</td>\n",
              "      <td>2.396791</td>\n",
              "      <td>-0.477114</td>\n",
              "      <td>1.130396</td>\n",
              "      <td>0.319611</td>\n",
              "      <td>-1.265246e-15</td>\n",
              "    </tr>\n",
              "    <tr>\n",
              "      <th>4</th>\n",
              "      <td>0.502962</td>\n",
              "      <td>-0.928085</td>\n",
              "      <td>2.954006</td>\n",
              "      <td>1.653405</td>\n",
              "      <td>1.362111</td>\n",
              "      <td>-0.562070</td>\n",
              "      <td>1.222838</td>\n",
              "      <td>-0.105829</td>\n",
              "      <td>-1.154224e-15</td>\n",
              "    </tr>\n",
              "    <tr>\n",
              "      <th>...</th>\n",
              "      <td>...</td>\n",
              "      <td>...</td>\n",
              "      <td>...</td>\n",
              "      <td>...</td>\n",
              "      <td>...</td>\n",
              "      <td>...</td>\n",
              "      <td>...</td>\n",
              "      <td>...</td>\n",
              "      <td>...</td>\n",
              "    </tr>\n",
              "    <tr>\n",
              "      <th>167844</th>\n",
              "      <td>-0.488737</td>\n",
              "      <td>-0.204609</td>\n",
              "      <td>-1.740281</td>\n",
              "      <td>-1.545128</td>\n",
              "      <td>1.218467</td>\n",
              "      <td>0.515993</td>\n",
              "      <td>0.154316</td>\n",
              "      <td>0.058511</td>\n",
              "      <td>6.127417e-17</td>\n",
              "    </tr>\n",
              "    <tr>\n",
              "      <th>167845</th>\n",
              "      <td>-0.463827</td>\n",
              "      <td>-0.200301</td>\n",
              "      <td>-1.731173</td>\n",
              "      <td>-1.519951</td>\n",
              "      <td>1.249416</td>\n",
              "      <td>0.559863</td>\n",
              "      <td>0.151598</td>\n",
              "      <td>0.059306</td>\n",
              "      <td>6.127417e-17</td>\n",
              "    </tr>\n",
              "    <tr>\n",
              "      <th>167846</th>\n",
              "      <td>-0.436208</td>\n",
              "      <td>-0.192725</td>\n",
              "      <td>-1.713446</td>\n",
              "      <td>-1.476183</td>\n",
              "      <td>1.304821</td>\n",
              "      <td>0.608708</td>\n",
              "      <td>0.146545</td>\n",
              "      <td>0.059521</td>\n",
              "      <td>6.127417e-17</td>\n",
              "    </tr>\n",
              "    <tr>\n",
              "      <th>167847</th>\n",
              "      <td>-0.404643</td>\n",
              "      <td>-0.180389</td>\n",
              "      <td>-1.683170</td>\n",
              "      <td>-1.405346</td>\n",
              "      <td>1.395839</td>\n",
              "      <td>0.664797</td>\n",
              "      <td>0.138093</td>\n",
              "      <td>0.058891</td>\n",
              "      <td>6.127417e-17</td>\n",
              "    </tr>\n",
              "    <tr>\n",
              "      <th>167848</th>\n",
              "      <td>-0.375027</td>\n",
              "      <td>-0.170405</td>\n",
              "      <td>-1.659093</td>\n",
              "      <td>-1.347881</td>\n",
              "      <td>1.469265</td>\n",
              "      <td>0.717308</td>\n",
              "      <td>0.131320</td>\n",
              "      <td>0.058679</td>\n",
              "      <td>6.127417e-17</td>\n",
              "    </tr>\n",
              "  </tbody>\n",
              "</table>\n",
              "<p>167849 rows × 9 columns</p>\n",
              "</div>"
            ],
            "text/plain": [
              "             PC1       PC2       PC3  ...       PC7       PC8           PC9\n",
              "0       0.436696 -0.673416  3.654752  ...  1.036261 -0.171266 -1.376268e-15\n",
              "1       0.467310 -0.713704  3.541771  ...  1.066116 -0.159443 -1.376268e-15\n",
              "2       0.471572 -0.552815  3.563906  ...  1.072747  0.000014 -1.376268e-15\n",
              "3       0.544156  0.077991  3.467736  ...  1.130396  0.319611 -1.265246e-15\n",
              "4       0.502962 -0.928085  2.954006  ...  1.222838 -0.105829 -1.154224e-15\n",
              "...          ...       ...       ...  ...       ...       ...           ...\n",
              "167844 -0.488737 -0.204609 -1.740281  ...  0.154316  0.058511  6.127417e-17\n",
              "167845 -0.463827 -0.200301 -1.731173  ...  0.151598  0.059306  6.127417e-17\n",
              "167846 -0.436208 -0.192725 -1.713446  ...  0.146545  0.059521  6.127417e-17\n",
              "167847 -0.404643 -0.180389 -1.683170  ...  0.138093  0.058891  6.127417e-17\n",
              "167848 -0.375027 -0.170405 -1.659093  ...  0.131320  0.058679  6.127417e-17\n",
              "\n",
              "[167849 rows x 9 columns]"
            ]
          },
          "metadata": {},
          "execution_count": 14
        }
      ]
    },
    {
      "cell_type": "code",
      "metadata": {
        "colab": {
          "base_uri": "https://localhost:8080/",
          "height": 279
        },
        "id": "v4pRCVJZUPoo",
        "outputId": "5f8408eb-3cc0-46d7-a50b-f5f052999fc6"
      },
      "source": [
        "import matplotlib.pyplot as plt\n",
        "\n",
        "per_var = np.round(pca.explained_variance_ratio_*100, decimals = 1)\n",
        "labels = ['PC' + str(x) for x in range(1, len(per_var)+1)]\n",
        "\n",
        "plt.bar(x=range(1, len(per_var)+1), height = per_var, tick_label = labels)\n",
        "plt.ylabel('Percentage of Explained Variance')\n",
        "plt.xlabel('Principal Component')\n",
        "plt.show()"
      ],
      "execution_count": 31,
      "outputs": [
        {
          "output_type": "display_data",
          "data": {
            "image/png": "[encoded data removed]",
            "text/plain": [
              "<Figure size 432x288 with 1 Axes>"
            ]
          },
          "metadata": {
            "needs_background": "light"
          }
        }
      ]
    },
    {
      "cell_type": "code",
      "metadata": {
        "id": "5U2r_72XRbSD"
      },
      "source": [
        "# train, test set 분리\n",
        "\n",
        "from sklearn.model_selection import train_test_split\n",
        "\n",
        "X_pca_train, X_pca_test, y_pca_train, y_pca_test =  train_test_split(df_pca[['PC1', 'PC2', 'PC3']], y, test_size=0.3, random_state=5)"
      ],
      "execution_count": 19,
      "outputs": []
    },
    {
      "cell_type": "code",
      "metadata": {
        "colab": {
          "base_uri": "https://localhost:8080/"
        },
        "id": "D4FKg5a8RpVF",
        "outputId": "22624968-8ec0-4c0b-dfd1-3e444ced6984"
      },
      "source": [
        "X_train.shape, X_test.shape, y_train.shape, y_test.shape"
      ],
      "execution_count": 20,
      "outputs": [
        {
          "output_type": "execute_result",
          "data": {
            "text/plain": [
              "((117494, 9), (50355, 9), (117494,), (50355,))"
            ]
          },
          "metadata": {},
          "execution_count": 20
        }
      ]
    },
    {
      "cell_type": "code",
      "metadata": {
        "colab": {
          "base_uri": "https://localhost:8080/"
        },
        "id": "FcTKY2abRtis",
        "outputId": "0c4d1e5d-2239-49a7-9b46-8a64c03960d5"
      },
      "source": [
        "X_pca_train.shape, X_pca_test.shape, y_pca_train.shape, y_pca_test.shape"
      ],
      "execution_count": 21,
      "outputs": [
        {
          "output_type": "execute_result",
          "data": {
            "text/plain": [
              "((117494, 3), (50355, 3), (117494,), (50355,))"
            ]
          },
          "metadata": {},
          "execution_count": 21
        }
      ]
    },
    {
      "cell_type": "code",
      "metadata": {
        "colab": {
          "base_uri": "https://localhost:8080/"
        },
        "id": "r4Vi3jthRz2r",
        "outputId": "82b5d69e-2497-4c96-e7e3-641ecc8ac038"
      },
      "source": [
        "# linear regression\n",
        "\n",
        "from sklearn.linear_model import LinearRegression\n",
        "lr =LinearRegression()\n",
        "lr.fit(X_pca_train, y_pca_train)\n",
        "pred = lr.predict(X_pca_test)\n",
        "\n",
        "print('Training accuracy : {:.3f}'.format(lr.score(X_pca_train, y_pca_train)))\n",
        "print('Test accuracy : {:.3f}'.format(lr.score(X_pca_test, y_pca_test)))\n"
      ],
      "execution_count": 22,
      "outputs": [
        {
          "output_type": "stream",
          "name": "stdout",
          "text": [
            "Training accuracy : 0.172\n",
            "Test accuracy : 0.173\n"
          ]
        }
      ]
    },
    {
      "cell_type": "code",
      "metadata": {
        "colab": {
          "base_uri": "https://localhost:8080/"
        },
        "id": "cGWwKeElSjAe",
        "outputId": "4ce9c8ba-c49a-44c3-bece-275b4edc43b7"
      },
      "source": [
        "# Ridge\n",
        "\n",
        "from sklearn.linear_model import Ridge\n",
        "\n",
        "ridge = Ridge(alpha = 10)\n",
        "ridge.fit(X_pca_train, y_pca_train)\n",
        "\n",
        "print('Training accuracy : {:.3f}'.format(ridge.score(X_pca_train, y_pca_train)))\n",
        "print('Test accuracy : {:.3f}'.format(ridge.score(X_pca_test, y_pca_test)))"
      ],
      "execution_count": 23,
      "outputs": [
        {
          "output_type": "stream",
          "name": "stdout",
          "text": [
            "Training accuracy : 0.172\n",
            "Test accuracy : 0.173\n"
          ]
        }
      ]
    },
    {
      "cell_type": "code",
      "metadata": {
        "colab": {
          "base_uri": "https://localhost:8080/"
        },
        "id": "tObxqapxS3J1",
        "outputId": "a22dd75d-433f-4527-841d-a369a8efffac"
      },
      "source": [
        "# Lasso 모델\n",
        "from sklearn.linear_model import Lasso\n",
        "\n",
        "lasso = Lasso(alpha = 0.01)\n",
        "lasso.fit(X_pca_train, y_pca_train)\n",
        "\n",
        "print('Training accuracy : {:.3f}'.format(lasso.score(X_pca_train, y_pca_train)))\n",
        "print('Test accuracy : {:.3f}'.format(lasso.score(X_pca_test, y_pca_test)))"
      ],
      "execution_count": 25,
      "outputs": [
        {
          "output_type": "stream",
          "name": "stdout",
          "text": [
            "Training accuracy : 0.168\n",
            "Test accuracy : 0.169\n"
          ]
        }
      ]
    },
    {
      "cell_type": "code",
      "metadata": {
        "colab": {
          "base_uri": "https://localhost:8080/"
        },
        "id": "xIzZp-meTQ1W",
        "outputId": "b9752170-1a6f-4c87-98ab-4c1de962b76a"
      },
      "source": [
        "# Decision Tree(Single Model)\n",
        "\n",
        "from sklearn.tree import DecisionTreeRegressor\n",
        "\n",
        "dt = DecisionTreeRegressor(random_state=5)\n",
        "dt.fit(X_pca_train, y_pca_train)\n",
        "\n",
        "print(dt.score(X_pca_train, y_pca_train))\n",
        "print(dt.score(X_pca_test, y_pca_test))"
      ],
      "execution_count": 26,
      "outputs": [
        {
          "output_type": "stream",
          "name": "stdout",
          "text": [
            "1.0\n",
            "0.8916376410209784\n"
          ]
        }
      ]
    },
    {
      "cell_type": "code",
      "metadata": {
        "colab": {
          "base_uri": "https://localhost:8080/"
        },
        "id": "zxxP7fg3Tbni",
        "outputId": "c2bfa940-933a-4210-c5d4-26455f53c780"
      },
      "source": [
        "# 2번 모델 RandomForestRegressor\n",
        "\n",
        "from sklearn.ensemble import RandomForestRegressor\n",
        "\n",
        "\n",
        "forest = RandomForestRegressor(n_estimators = 100,n_jobs = -1,oob_score = True, random_state = 5)\n",
        "forest.fit(X_pca_train, y_pca_train)\n",
        "\n",
        "print('Training accuracy : {:.3f}'.format(forest.score(X_pca_train, y_pca_train)))\n",
        "print('Test accuracy : {:.3f}'.format(forest.score(X_pca_test, y_pca_test)))"
      ],
      "execution_count": 27,
      "outputs": [
        {
          "output_type": "stream",
          "name": "stderr",
          "text": [
            "/usr/local/lib/python3.7/dist-packages/sklearn/base.py:446: UserWarning: X does not have valid feature names, but RandomForestRegressor was fitted with feature names\n",
            "  \"X does not have valid feature names, but\"\n"
          ]
        },
        {
          "output_type": "stream",
          "name": "stdout",
          "text": [
            "Training accuracy : 0.989\n",
            "Test accuracy : 0.931\n"
          ]
        }
      ]
    },
    {
      "cell_type": "code",
      "metadata": {
        "colab": {
          "base_uri": "https://localhost:8080/",
          "height": 283
        },
        "id": "o5qBekXTTtt4",
        "outputId": "76744805-bf25-4b81-c26a-4110e1b934de"
      },
      "source": [
        "# feature importance 비교\n",
        "import seaborn as sns\n",
        "feature_series = pd.Series(data = forest.feature_importances_, index = df_pca[['PC1', 'PC2', 'PC3']].columns)\n",
        "feature_series = feature_series.sort_values(ascending = False)\n",
        "sns.barplot(x = feature_series, y = feature_series.index)"
      ],
      "execution_count": 29,
      "outputs": [
        {
          "output_type": "execute_result",
          "data": {
            "text/plain": [
              "<matplotlib.axes._subplots.AxesSubplot at 0x7f3d4ae67850>"
            ]
          },
          "metadata": {},
          "execution_count": 29
        },
        {
          "output_type": "display_data",
          "data": {
            "image/png": "[encoded data removed]",
            "text/plain": [
              "<Figure size 432x288 with 1 Axes>"
            ]
          },
          "metadata": {
            "needs_background": "light"
          }
        }
      ]
    },
    {
      "cell_type": "code",
      "metadata": {
        "colab": {
          "base_uri": "https://localhost:8080/"
        },
        "id": "9k-CIqceUHuk",
        "outputId": "0511b469-2de5-42ba-bf4f-21a522282db2"
      },
      "source": [
        "# AdaBoost 모델\n",
        "from sklearn.ensemble import AdaBoostRegressor\n",
        "\n",
        "abr = AdaBoostRegressor(random_state = 0)\n",
        "abr.fit(X_pca_train, y_pca_train)\n",
        "\n",
        "print('Training accuracy : {:.3f}'.format(abr.score(X_pca_train, y_pca_train)))\n",
        "print('test Accuracy: {:.3f}'.format(abr.score(X_pca_test, y_pca_test)))"
      ],
      "execution_count": 32,
      "outputs": [
        {
          "output_type": "stream",
          "name": "stdout",
          "text": [
            "Training accuracy : -3.727\n",
            "test Accuracy: -3.629\n"
          ]
        }
      ]
    },
    {
      "cell_type": "code",
      "metadata": {
        "colab": {
          "base_uri": "https://localhost:8080/"
        },
        "id": "2mUpD1nUUqiM",
        "outputId": "e14263d0-588c-4154-94d7-b26cc6b5fe7c"
      },
      "source": [
        "# 5번 모델 Bagging\n",
        "\n",
        "from sklearn.ensemble import BaggingRegressor\n",
        "\n",
        "bagging = BaggingRegressor(DecisionTreeRegressor(), n_estimators =100, oob_score = True, n_jobs = -1, random_state = 0 )\n",
        "bagging.fit(X_pca_train, y_pca_train)\n",
        "\n",
        "print('Training accuracy : {:.3f}'.format(bagging.score(X_pca_train, y_pca_train)))\n",
        "print('test Accuracy: {:.3f}'.format(bagging.score(X_pca_test, y_pca_test)))\n",
        "print('OOB sample Accuracy : {:.3f}'.format(bagging.oob_score_))"
      ],
      "execution_count": 33,
      "outputs": [
        {
          "output_type": "stream",
          "name": "stdout",
          "text": [
            "Training accuracy : 0.989\n",
            "test Accuracy: 0.933\n",
            "OOB sample Accuracy : 0.920\n"
          ]
        }
      ]
    },
    {
      "cell_type": "code",
      "metadata": {
        "colab": {
          "base_uri": "https://localhost:8080/"
        },
        "id": "3M827zrjU7x-",
        "outputId": "e556ff57-bc67-466f-c00a-e209a0a2df48"
      },
      "source": [
        "# SVR 모델\n",
        "\n",
        "from sklearn.svm import LinearSVR\n",
        "svr= LinearSVR(max_iter = 10000)\n",
        "svr.fit(X_pca_train, y_pca_train)\n",
        "\n",
        "print(\"훈련 세트 정확도: {:.2f}\".format(svr.score(X_pca_train, y_pca_train)))\n",
        "print(\"테스트 세트 정확도:{:.2f}\".format(svr.score(X_pca_test, y_pca_test)))\n"
      ],
      "execution_count": 35,
      "outputs": [
        {
          "output_type": "stream",
          "name": "stdout",
          "text": [
            "훈련 세트 정확도: 0.13\n",
            "테스트 세트 정확도:0.13\n"
          ]
        }
      ]
    },
    {
      "cell_type": "code",
      "metadata": {
        "colab": {
          "base_uri": "https://localhost:8080/"
        },
        "id": "P90aM3p6VNYp",
        "outputId": "1f0ad260-5ddb-4d85-9a15-d064784d6383"
      },
      "source": [
        "# K-Nearest Neighbors 모델\n",
        "from sklearn.neighbors import KNeighborsRegressor\n",
        "knn= KNeighborsRegressor()\n",
        "knn.fit(X_pca_train, y_pca_train)\n",
        "\n",
        "print(\"훈련 세트 정확도: {:.2f}\".format(knn.score(X_pca_train, y_pca_train)))\n",
        "print(\"테스트 세트 정확도:{:.2f}\".format(knn.score(X_pca_test, y_pca_test)))"
      ],
      "execution_count": 34,
      "outputs": [
        {
          "output_type": "stream",
          "name": "stdout",
          "text": [
            "훈련 세트 정확도: 0.90\n",
            "테스트 세트 정확도:0.86\n"
          ]
        }
      ]
    },
    {
      "cell_type": "code",
      "metadata": {
        "id": "ThNQ1eWdVTUx"
      },
      "source": [
        ""
      ],
      "execution_count": null,
      "outputs": []
    }
  ]
}